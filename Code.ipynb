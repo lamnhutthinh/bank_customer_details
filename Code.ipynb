{
 "cells": [
  {
   "cell_type": "markdown",
   "metadata": {},
   "source": [
    "# Import librabries"
   ]
  },
  {
   "cell_type": "code",
   "execution_count": 1,
   "metadata": {},
   "outputs": [],
   "source": [
    "#Importing basic packages\n",
    "import pandas as pd\n",
    "import numpy as np\n",
    "import matplotlib.pyplot as plt\n",
    "import seaborn as sns\n",
    "import plotly.express as px\n",
    "\n",
    "#Importing sklearn modules\n",
    "from sklearn.metrics import mean_squared_error,confusion_matrix, precision_score, recall_score, auc,roc_curve,accuracy_score\n",
    "from sklearn import ensemble, linear_model, neighbors, svm, tree, neural_network\n",
    "from sklearn.linear_model import Ridge\n",
    "from sklearn.preprocessing import PolynomialFeatures, StandardScaler\n",
    "from sklearn.model_selection import train_test_split, cross_val_score\n",
    "from sklearn.pipeline import make_pipeline\n",
    "from sklearn import svm,model_selection, tree, linear_model, neighbors, naive_bayes, ensemble, gaussian_process\n",
    "from sklearn.neighbors import KNeighborsClassifier\n",
    "from sklearn.ensemble import RandomForestClassifier\n",
    "from sklearn.metrics import confusion_matrix\n",
    "from sklearn.metrics import plot_confusion_matrix\n",
    "from sklearn.metrics import classification_report, confusion_matrix, accuracy_score, roc_auc_score"
   ]
  },
  {
   "cell_type": "markdown",
   "metadata": {},
   "source": [
    "# Read the dataset"
   ]
  },
  {
   "cell_type": "code",
   "execution_count": 2,
   "metadata": {},
   "outputs": [],
   "source": [
    "df = pd.read_excel('E:\\Lam Nhut Thinh\\Machine Learning\\Bank-Customer-Details.xlsx')"
   ]
  },
  {
   "cell_type": "code",
   "execution_count": 3,
   "metadata": {},
   "outputs": [
    {
     "data": {
      "text/html": [
       "<div>\n",
       "<style scoped>\n",
       "    .dataframe tbody tr th:only-of-type {\n",
       "        vertical-align: middle;\n",
       "    }\n",
       "\n",
       "    .dataframe tbody tr th {\n",
       "        vertical-align: top;\n",
       "    }\n",
       "\n",
       "    .dataframe thead th {\n",
       "        text-align: right;\n",
       "    }\n",
       "</style>\n",
       "<table border=\"1\" class=\"dataframe\">\n",
       "  <thead>\n",
       "    <tr style=\"text-align: right;\">\n",
       "      <th></th>\n",
       "      <th>CustomerId</th>\n",
       "      <th>CreditScore</th>\n",
       "      <th>Geography</th>\n",
       "      <th>Gender</th>\n",
       "      <th>Age</th>\n",
       "      <th>Tenure</th>\n",
       "      <th>Balance</th>\n",
       "      <th>NumOfProducts</th>\n",
       "      <th>EstimatedSalary</th>\n",
       "      <th>SpendingScore</th>\n",
       "      <th>Family</th>\n",
       "      <th>Exited</th>\n",
       "    </tr>\n",
       "  </thead>\n",
       "  <tbody>\n",
       "    <tr>\n",
       "      <th>0</th>\n",
       "      <td>15586133</td>\n",
       "      <td>666</td>\n",
       "      <td>Mid</td>\n",
       "      <td>Female</td>\n",
       "      <td>44</td>\n",
       "      <td>2</td>\n",
       "      <td>2690919000</td>\n",
       "      <td>1</td>\n",
       "      <td>301729000</td>\n",
       "      <td>18</td>\n",
       "      <td>Married</td>\n",
       "      <td>0</td>\n",
       "    </tr>\n",
       "    <tr>\n",
       "      <th>1</th>\n",
       "      <td>15713354</td>\n",
       "      <td>597</td>\n",
       "      <td>Mid</td>\n",
       "      <td>Female</td>\n",
       "      <td>22</td>\n",
       "      <td>4</td>\n",
       "      <td>2233629000</td>\n",
       "      <td>1</td>\n",
       "      <td>310328000</td>\n",
       "      <td>45</td>\n",
       "      <td>Single</td>\n",
       "      <td>0</td>\n",
       "    </tr>\n",
       "    <tr>\n",
       "      <th>2</th>\n",
       "      <td>15710390</td>\n",
       "      <td>655</td>\n",
       "      <td>North</td>\n",
       "      <td>Female</td>\n",
       "      <td>39</td>\n",
       "      <td>6</td>\n",
       "      <td>2081888000</td>\n",
       "      <td>2</td>\n",
       "      <td>655373000</td>\n",
       "      <td>12</td>\n",
       "      <td>Married</td>\n",
       "      <td>0</td>\n",
       "    </tr>\n",
       "    <tr>\n",
       "      <th>3</th>\n",
       "      <td>15732832</td>\n",
       "      <td>707</td>\n",
       "      <td>North</td>\n",
       "      <td>Female</td>\n",
       "      <td>40</td>\n",
       "      <td>5</td>\n",
       "      <td>0</td>\n",
       "      <td>2</td>\n",
       "      <td>180632000</td>\n",
       "      <td>49</td>\n",
       "      <td>Single</td>\n",
       "      <td>0</td>\n",
       "    </tr>\n",
       "    <tr>\n",
       "      <th>4</th>\n",
       "      <td>15568449</td>\n",
       "      <td>661</td>\n",
       "      <td>South</td>\n",
       "      <td>Male</td>\n",
       "      <td>38</td>\n",
       "      <td>7</td>\n",
       "      <td>3146147000</td>\n",
       "      <td>1</td>\n",
       "      <td>68864000</td>\n",
       "      <td>44</td>\n",
       "      <td>Single</td>\n",
       "      <td>0</td>\n",
       "    </tr>\n",
       "    <tr>\n",
       "      <th>...</th>\n",
       "      <td>...</td>\n",
       "      <td>...</td>\n",
       "      <td>...</td>\n",
       "      <td>...</td>\n",
       "      <td>...</td>\n",
       "      <td>...</td>\n",
       "      <td>...</td>\n",
       "      <td>...</td>\n",
       "      <td>...</td>\n",
       "      <td>...</td>\n",
       "      <td>...</td>\n",
       "      <td>...</td>\n",
       "    </tr>\n",
       "    <tr>\n",
       "      <th>8995</th>\n",
       "      <td>15794849</td>\n",
       "      <td>850</td>\n",
       "      <td>Mid</td>\n",
       "      <td>Male</td>\n",
       "      <td>22</td>\n",
       "      <td>4</td>\n",
       "      <td>2014333000</td>\n",
       "      <td>2</td>\n",
       "      <td>46382000</td>\n",
       "      <td>44</td>\n",
       "      <td>Married</td>\n",
       "      <td>1</td>\n",
       "    </tr>\n",
       "    <tr>\n",
       "      <th>8996</th>\n",
       "      <td>15600392</td>\n",
       "      <td>735</td>\n",
       "      <td>North</td>\n",
       "      <td>Female</td>\n",
       "      <td>53</td>\n",
       "      <td>8</td>\n",
       "      <td>2724598000</td>\n",
       "      <td>2</td>\n",
       "      <td>750002000</td>\n",
       "      <td>22</td>\n",
       "      <td>Single</td>\n",
       "      <td>0</td>\n",
       "    </tr>\n",
       "    <tr>\n",
       "      <th>8997</th>\n",
       "      <td>15600106</td>\n",
       "      <td>631</td>\n",
       "      <td>North</td>\n",
       "      <td>Male</td>\n",
       "      <td>36</td>\n",
       "      <td>1</td>\n",
       "      <td>0</td>\n",
       "      <td>2</td>\n",
       "      <td>585822000</td>\n",
       "      <td>33</td>\n",
       "      <td>Single</td>\n",
       "      <td>0</td>\n",
       "    </tr>\n",
       "    <tr>\n",
       "      <th>8998</th>\n",
       "      <td>15684921</td>\n",
       "      <td>792</td>\n",
       "      <td>South</td>\n",
       "      <td>Male</td>\n",
       "      <td>25</td>\n",
       "      <td>7</td>\n",
       "      <td>3142969000</td>\n",
       "      <td>1</td>\n",
       "      <td>574812000</td>\n",
       "      <td>28</td>\n",
       "      <td>Single</td>\n",
       "      <td>0</td>\n",
       "    </tr>\n",
       "    <tr>\n",
       "      <th>8999</th>\n",
       "      <td>15773503</td>\n",
       "      <td>551</td>\n",
       "      <td>South</td>\n",
       "      <td>Male</td>\n",
       "      <td>32</td>\n",
       "      <td>4</td>\n",
       "      <td>0</td>\n",
       "      <td>2</td>\n",
       "      <td>235050000</td>\n",
       "      <td>46</td>\n",
       "      <td>Single</td>\n",
       "      <td>0</td>\n",
       "    </tr>\n",
       "  </tbody>\n",
       "</table>\n",
       "<p>9000 rows × 12 columns</p>\n",
       "</div>"
      ],
      "text/plain": [
       "      CustomerId  CreditScore Geography  Gender  Age  Tenure     Balance  \\\n",
       "0       15586133          666       Mid  Female   44       2  2690919000   \n",
       "1       15713354          597       Mid  Female   22       4  2233629000   \n",
       "2       15710390          655     North  Female   39       6  2081888000   \n",
       "3       15732832          707     North  Female   40       5           0   \n",
       "4       15568449          661     South    Male   38       7  3146147000   \n",
       "...          ...          ...       ...     ...  ...     ...         ...   \n",
       "8995    15794849          850       Mid    Male   22       4  2014333000   \n",
       "8996    15600392          735     North  Female   53       8  2724598000   \n",
       "8997    15600106          631     North    Male   36       1           0   \n",
       "8998    15684921          792     South    Male   25       7  3142969000   \n",
       "8999    15773503          551     South    Male   32       4           0   \n",
       "\n",
       "      NumOfProducts  EstimatedSalary  SpendingScore   Family  Exited  \n",
       "0                 1        301729000             18  Married       0  \n",
       "1                 1        310328000             45   Single       0  \n",
       "2                 2        655373000             12  Married       0  \n",
       "3                 2        180632000             49   Single       0  \n",
       "4                 1         68864000             44   Single       0  \n",
       "...             ...              ...            ...      ...     ...  \n",
       "8995              2         46382000             44  Married       1  \n",
       "8996              2        750002000             22   Single       0  \n",
       "8997              2        585822000             33   Single       0  \n",
       "8998              1        574812000             28   Single       0  \n",
       "8999              2        235050000             46   Single       0  \n",
       "\n",
       "[9000 rows x 12 columns]"
      ]
     },
     "execution_count": 3,
     "metadata": {},
     "output_type": "execute_result"
    }
   ],
   "source": [
    "df"
   ]
  },
  {
   "cell_type": "markdown",
   "metadata": {},
   "source": [
    "The dataset consists of 9000 rows 12 columns. The \"CustomerId\" column is unecessary so i will drop it."
   ]
  },
  {
   "cell_type": "code",
   "execution_count": 4,
   "metadata": {},
   "outputs": [
    {
     "data": {
      "text/html": [
       "<div>\n",
       "<style scoped>\n",
       "    .dataframe tbody tr th:only-of-type {\n",
       "        vertical-align: middle;\n",
       "    }\n",
       "\n",
       "    .dataframe tbody tr th {\n",
       "        vertical-align: top;\n",
       "    }\n",
       "\n",
       "    .dataframe thead th {\n",
       "        text-align: right;\n",
       "    }\n",
       "</style>\n",
       "<table border=\"1\" class=\"dataframe\">\n",
       "  <thead>\n",
       "    <tr style=\"text-align: right;\">\n",
       "      <th></th>\n",
       "      <th>CreditScore</th>\n",
       "      <th>Geography</th>\n",
       "      <th>Gender</th>\n",
       "      <th>Age</th>\n",
       "      <th>Tenure</th>\n",
       "      <th>Balance</th>\n",
       "      <th>NumOfProducts</th>\n",
       "      <th>EstimatedSalary</th>\n",
       "      <th>SpendingScore</th>\n",
       "      <th>Family</th>\n",
       "      <th>Exited</th>\n",
       "    </tr>\n",
       "  </thead>\n",
       "  <tbody>\n",
       "    <tr>\n",
       "      <th>0</th>\n",
       "      <td>666</td>\n",
       "      <td>Mid</td>\n",
       "      <td>Female</td>\n",
       "      <td>44</td>\n",
       "      <td>2</td>\n",
       "      <td>2690919000</td>\n",
       "      <td>1</td>\n",
       "      <td>301729000</td>\n",
       "      <td>18</td>\n",
       "      <td>Married</td>\n",
       "      <td>0</td>\n",
       "    </tr>\n",
       "    <tr>\n",
       "      <th>1</th>\n",
       "      <td>597</td>\n",
       "      <td>Mid</td>\n",
       "      <td>Female</td>\n",
       "      <td>22</td>\n",
       "      <td>4</td>\n",
       "      <td>2233629000</td>\n",
       "      <td>1</td>\n",
       "      <td>310328000</td>\n",
       "      <td>45</td>\n",
       "      <td>Single</td>\n",
       "      <td>0</td>\n",
       "    </tr>\n",
       "    <tr>\n",
       "      <th>2</th>\n",
       "      <td>655</td>\n",
       "      <td>North</td>\n",
       "      <td>Female</td>\n",
       "      <td>39</td>\n",
       "      <td>6</td>\n",
       "      <td>2081888000</td>\n",
       "      <td>2</td>\n",
       "      <td>655373000</td>\n",
       "      <td>12</td>\n",
       "      <td>Married</td>\n",
       "      <td>0</td>\n",
       "    </tr>\n",
       "    <tr>\n",
       "      <th>3</th>\n",
       "      <td>707</td>\n",
       "      <td>North</td>\n",
       "      <td>Female</td>\n",
       "      <td>40</td>\n",
       "      <td>5</td>\n",
       "      <td>0</td>\n",
       "      <td>2</td>\n",
       "      <td>180632000</td>\n",
       "      <td>49</td>\n",
       "      <td>Single</td>\n",
       "      <td>0</td>\n",
       "    </tr>\n",
       "    <tr>\n",
       "      <th>4</th>\n",
       "      <td>661</td>\n",
       "      <td>South</td>\n",
       "      <td>Male</td>\n",
       "      <td>38</td>\n",
       "      <td>7</td>\n",
       "      <td>3146147000</td>\n",
       "      <td>1</td>\n",
       "      <td>68864000</td>\n",
       "      <td>44</td>\n",
       "      <td>Single</td>\n",
       "      <td>0</td>\n",
       "    </tr>\n",
       "    <tr>\n",
       "      <th>...</th>\n",
       "      <td>...</td>\n",
       "      <td>...</td>\n",
       "      <td>...</td>\n",
       "      <td>...</td>\n",
       "      <td>...</td>\n",
       "      <td>...</td>\n",
       "      <td>...</td>\n",
       "      <td>...</td>\n",
       "      <td>...</td>\n",
       "      <td>...</td>\n",
       "      <td>...</td>\n",
       "    </tr>\n",
       "    <tr>\n",
       "      <th>8995</th>\n",
       "      <td>850</td>\n",
       "      <td>Mid</td>\n",
       "      <td>Male</td>\n",
       "      <td>22</td>\n",
       "      <td>4</td>\n",
       "      <td>2014333000</td>\n",
       "      <td>2</td>\n",
       "      <td>46382000</td>\n",
       "      <td>44</td>\n",
       "      <td>Married</td>\n",
       "      <td>1</td>\n",
       "    </tr>\n",
       "    <tr>\n",
       "      <th>8996</th>\n",
       "      <td>735</td>\n",
       "      <td>North</td>\n",
       "      <td>Female</td>\n",
       "      <td>53</td>\n",
       "      <td>8</td>\n",
       "      <td>2724598000</td>\n",
       "      <td>2</td>\n",
       "      <td>750002000</td>\n",
       "      <td>22</td>\n",
       "      <td>Single</td>\n",
       "      <td>0</td>\n",
       "    </tr>\n",
       "    <tr>\n",
       "      <th>8997</th>\n",
       "      <td>631</td>\n",
       "      <td>North</td>\n",
       "      <td>Male</td>\n",
       "      <td>36</td>\n",
       "      <td>1</td>\n",
       "      <td>0</td>\n",
       "      <td>2</td>\n",
       "      <td>585822000</td>\n",
       "      <td>33</td>\n",
       "      <td>Single</td>\n",
       "      <td>0</td>\n",
       "    </tr>\n",
       "    <tr>\n",
       "      <th>8998</th>\n",
       "      <td>792</td>\n",
       "      <td>South</td>\n",
       "      <td>Male</td>\n",
       "      <td>25</td>\n",
       "      <td>7</td>\n",
       "      <td>3142969000</td>\n",
       "      <td>1</td>\n",
       "      <td>574812000</td>\n",
       "      <td>28</td>\n",
       "      <td>Single</td>\n",
       "      <td>0</td>\n",
       "    </tr>\n",
       "    <tr>\n",
       "      <th>8999</th>\n",
       "      <td>551</td>\n",
       "      <td>South</td>\n",
       "      <td>Male</td>\n",
       "      <td>32</td>\n",
       "      <td>4</td>\n",
       "      <td>0</td>\n",
       "      <td>2</td>\n",
       "      <td>235050000</td>\n",
       "      <td>46</td>\n",
       "      <td>Single</td>\n",
       "      <td>0</td>\n",
       "    </tr>\n",
       "  </tbody>\n",
       "</table>\n",
       "<p>9000 rows × 11 columns</p>\n",
       "</div>"
      ],
      "text/plain": [
       "      CreditScore Geography  Gender  Age  Tenure     Balance  NumOfProducts  \\\n",
       "0             666       Mid  Female   44       2  2690919000              1   \n",
       "1             597       Mid  Female   22       4  2233629000              1   \n",
       "2             655     North  Female   39       6  2081888000              2   \n",
       "3             707     North  Female   40       5           0              2   \n",
       "4             661     South    Male   38       7  3146147000              1   \n",
       "...           ...       ...     ...  ...     ...         ...            ...   \n",
       "8995          850       Mid    Male   22       4  2014333000              2   \n",
       "8996          735     North  Female   53       8  2724598000              2   \n",
       "8997          631     North    Male   36       1           0              2   \n",
       "8998          792     South    Male   25       7  3142969000              1   \n",
       "8999          551     South    Male   32       4           0              2   \n",
       "\n",
       "      EstimatedSalary  SpendingScore   Family  Exited  \n",
       "0           301729000             18  Married       0  \n",
       "1           310328000             45   Single       0  \n",
       "2           655373000             12  Married       0  \n",
       "3           180632000             49   Single       0  \n",
       "4            68864000             44   Single       0  \n",
       "...               ...            ...      ...     ...  \n",
       "8995         46382000             44  Married       1  \n",
       "8996        750002000             22   Single       0  \n",
       "8997        585822000             33   Single       0  \n",
       "8998        574812000             28   Single       0  \n",
       "8999        235050000             46   Single       0  \n",
       "\n",
       "[9000 rows x 11 columns]"
      ]
     },
     "execution_count": 4,
     "metadata": {},
     "output_type": "execute_result"
    }
   ],
   "source": [
    "df = df.drop('CustomerId',axis=1)\n",
    "df"
   ]
  },
  {
   "cell_type": "markdown",
   "metadata": {},
   "source": [
    "# Preprocess the data and EDA"
   ]
  },
  {
   "cell_type": "markdown",
   "metadata": {},
   "source": [
    "Check if there is any null value in the dataset."
   ]
  },
  {
   "cell_type": "code",
   "execution_count": 5,
   "metadata": {},
   "outputs": [
    {
     "data": {
      "text/plain": [
       "0"
      ]
     },
     "execution_count": 5,
     "metadata": {},
     "output_type": "execute_result"
    }
   ],
   "source": [
    "df.isnull().sum().sum()"
   ]
  },
  {
   "cell_type": "code",
   "execution_count": 6,
   "metadata": {},
   "outputs": [
    {
     "name": "stdout",
     "output_type": "stream",
     "text": [
      "<class 'pandas.core.frame.DataFrame'>\n",
      "RangeIndex: 9000 entries, 0 to 8999\n",
      "Data columns (total 11 columns):\n",
      " #   Column           Non-Null Count  Dtype \n",
      "---  ------           --------------  ----- \n",
      " 0   CreditScore      9000 non-null   int64 \n",
      " 1   Geography        9000 non-null   object\n",
      " 2   Gender           9000 non-null   object\n",
      " 3   Age              9000 non-null   int64 \n",
      " 4   Tenure           9000 non-null   int64 \n",
      " 5   Balance          9000 non-null   int64 \n",
      " 6   NumOfProducts    9000 non-null   int64 \n",
      " 7   EstimatedSalary  9000 non-null   int64 \n",
      " 8   SpendingScore    9000 non-null   int64 \n",
      " 9   Family           9000 non-null   object\n",
      " 10  Exited           9000 non-null   int64 \n",
      "dtypes: int64(8), object(3)\n",
      "memory usage: 773.6+ KB\n"
     ]
    }
   ],
   "source": [
    "df.info()"
   ]
  },
  {
   "cell_type": "markdown",
   "metadata": {},
   "source": [
    "The dataset has 8 numerical variables and 3 category variables."
   ]
  },
  {
   "cell_type": "code",
   "execution_count": 7,
   "metadata": {},
   "outputs": [
    {
     "data": {
      "text/html": [
       "<div>\n",
       "<style scoped>\n",
       "    .dataframe tbody tr th:only-of-type {\n",
       "        vertical-align: middle;\n",
       "    }\n",
       "\n",
       "    .dataframe tbody tr th {\n",
       "        vertical-align: top;\n",
       "    }\n",
       "\n",
       "    .dataframe thead th {\n",
       "        text-align: right;\n",
       "    }\n",
       "</style>\n",
       "<table border=\"1\" class=\"dataframe\">\n",
       "  <thead>\n",
       "    <tr style=\"text-align: right;\">\n",
       "      <th></th>\n",
       "      <th>CreditScore</th>\n",
       "      <th>Age</th>\n",
       "      <th>Tenure</th>\n",
       "      <th>Balance</th>\n",
       "      <th>NumOfProducts</th>\n",
       "      <th>EstimatedSalary</th>\n",
       "      <th>SpendingScore</th>\n",
       "      <th>Exited</th>\n",
       "    </tr>\n",
       "  </thead>\n",
       "  <tbody>\n",
       "    <tr>\n",
       "      <th>count</th>\n",
       "      <td>9000.000000</td>\n",
       "      <td>9000.000000</td>\n",
       "      <td>9000.000000</td>\n",
       "      <td>9.000000e+03</td>\n",
       "      <td>9000.000000</td>\n",
       "      <td>9.000000e+03</td>\n",
       "      <td>9000.000000</td>\n",
       "      <td>9000.000000</td>\n",
       "    </tr>\n",
       "    <tr>\n",
       "      <th>mean</th>\n",
       "      <td>650.296111</td>\n",
       "      <td>38.898000</td>\n",
       "      <td>4.967333</td>\n",
       "      <td>1.678519e+09</td>\n",
       "      <td>1.528889</td>\n",
       "      <td>4.398055e+08</td>\n",
       "      <td>50.273444</td>\n",
       "      <td>0.109889</td>\n",
       "    </tr>\n",
       "    <tr>\n",
       "      <th>std</th>\n",
       "      <td>96.943138</td>\n",
       "      <td>10.481053</td>\n",
       "      <td>2.802821</td>\n",
       "      <td>1.373367e+09</td>\n",
       "      <td>0.581074</td>\n",
       "      <td>2.533351e+08</td>\n",
       "      <td>28.976039</td>\n",
       "      <td>0.312769</td>\n",
       "    </tr>\n",
       "    <tr>\n",
       "      <th>min</th>\n",
       "      <td>350.000000</td>\n",
       "      <td>18.000000</td>\n",
       "      <td>1.000000</td>\n",
       "      <td>0.000000e+00</td>\n",
       "      <td>1.000000</td>\n",
       "      <td>5.100000e+04</td>\n",
       "      <td>1.000000</td>\n",
       "      <td>0.000000</td>\n",
       "    </tr>\n",
       "    <tr>\n",
       "      <th>25%</th>\n",
       "      <td>583.000000</td>\n",
       "      <td>32.000000</td>\n",
       "      <td>2.000000</td>\n",
       "      <td>0.000000e+00</td>\n",
       "      <td>1.000000</td>\n",
       "      <td>2.238330e+08</td>\n",
       "      <td>25.000000</td>\n",
       "      <td>0.000000</td>\n",
       "    </tr>\n",
       "    <tr>\n",
       "      <th>50%</th>\n",
       "      <td>651.000000</td>\n",
       "      <td>37.000000</td>\n",
       "      <td>5.000000</td>\n",
       "      <td>2.139412e+09</td>\n",
       "      <td>1.000000</td>\n",
       "      <td>4.396615e+08</td>\n",
       "      <td>50.000000</td>\n",
       "      <td>0.000000</td>\n",
       "    </tr>\n",
       "    <tr>\n",
       "      <th>75%</th>\n",
       "      <td>718.000000</td>\n",
       "      <td>44.000000</td>\n",
       "      <td>7.000000</td>\n",
       "      <td>2.806643e+09</td>\n",
       "      <td>2.000000</td>\n",
       "      <td>6.564368e+08</td>\n",
       "      <td>76.000000</td>\n",
       "      <td>0.000000</td>\n",
       "    </tr>\n",
       "    <tr>\n",
       "      <th>max</th>\n",
       "      <td>850.000000</td>\n",
       "      <td>92.000000</td>\n",
       "      <td>10.000000</td>\n",
       "      <td>5.519758e+09</td>\n",
       "      <td>4.000000</td>\n",
       "      <td>8.799670e+08</td>\n",
       "      <td>100.000000</td>\n",
       "      <td>1.000000</td>\n",
       "    </tr>\n",
       "  </tbody>\n",
       "</table>\n",
       "</div>"
      ],
      "text/plain": [
       "       CreditScore          Age       Tenure       Balance  NumOfProducts  \\\n",
       "count  9000.000000  9000.000000  9000.000000  9.000000e+03    9000.000000   \n",
       "mean    650.296111    38.898000     4.967333  1.678519e+09       1.528889   \n",
       "std      96.943138    10.481053     2.802821  1.373367e+09       0.581074   \n",
       "min     350.000000    18.000000     1.000000  0.000000e+00       1.000000   \n",
       "25%     583.000000    32.000000     2.000000  0.000000e+00       1.000000   \n",
       "50%     651.000000    37.000000     5.000000  2.139412e+09       1.000000   \n",
       "75%     718.000000    44.000000     7.000000  2.806643e+09       2.000000   \n",
       "max     850.000000    92.000000    10.000000  5.519758e+09       4.000000   \n",
       "\n",
       "       EstimatedSalary  SpendingScore       Exited  \n",
       "count     9.000000e+03    9000.000000  9000.000000  \n",
       "mean      4.398055e+08      50.273444     0.109889  \n",
       "std       2.533351e+08      28.976039     0.312769  \n",
       "min       5.100000e+04       1.000000     0.000000  \n",
       "25%       2.238330e+08      25.000000     0.000000  \n",
       "50%       4.396615e+08      50.000000     0.000000  \n",
       "75%       6.564368e+08      76.000000     0.000000  \n",
       "max       8.799670e+08     100.000000     1.000000  "
      ]
     },
     "execution_count": 7,
     "metadata": {},
     "output_type": "execute_result"
    }
   ],
   "source": [
    "df.describe()"
   ]
  },
  {
   "cell_type": "markdown",
   "metadata": {},
   "source": [
    "- The average age of customers is about 39 years old, the oldest customer is up to 92 years old!\n",
    "- The average credit score of customers is about 650 points, quite high. While the highest credit score is 850 points.\n",
    "- The mean value of the Exited variables is approximate 0.11. Exited variable only accepts 2 values, 0 and 1. It can be concluded that the majority of observations in the data set receive the value 0 in the variable Exited, which means that the majority of customers in the dataset retained the account."
   ]
  },
  {
   "cell_type": "code",
   "execution_count": 8,
   "metadata": {},
   "outputs": [
    {
     "data": {
      "image/png": "[encoded data removed]",
      "text/plain": [
       "<Figure size 864x288 with 1 Axes>"
      ]
     },
     "metadata": {
      "needs_background": "light"
     },
     "output_type": "display_data"
    },
    {
     "data": {
      "image/png": "[encoded data removed]",
      "text/plain": [
       "<Figure size 864x288 with 1 Axes>"
      ]
     },
     "metadata": {
      "needs_background": "light"
     },
     "output_type": "display_data"
    },
    {
     "data": {
      "image/png": "[encoded data removed]",
      "text/plain": [
       "<Figure size 864x288 with 1 Axes>"
      ]
     },
     "metadata": {
      "needs_background": "light"
     },
     "output_type": "display_data"
    }
   ],
   "source": [
    "cat = ['Geography','Gender','Family']\n",
    "for i in cat:\n",
    "    df[i].hist(color = 'Green',figsize = (12,4))\n",
    "    plt.title(f'{i.upper()} COUNT PLOT')\n",
    "    plt.show()"
   ]
  },
  {
   "cell_type": "markdown",
   "metadata": {},
   "source": [
    "- In the dataset, the number of people open accounts in the North side makes up the majority (more than 4000 people). There is no significant difference in the number of people open accounts in the Mid side and the South side.\n",
    "- In the dataset, the number of female customers (about 4000 people) is less than the number of male customers (about 5000 people). There is not too much difference between the number of male and female customers\n",
    "- In the data set, the number of single customers is the majority with more than 5000 people. Followed by married customers with more than 3000 people. Customers who are divorced or have not specified their marital status account for a very small percentage."
   ]
  },
  {
   "cell_type": "code",
   "execution_count": 9,
   "metadata": {
    "scrolled": false
   },
   "outputs": [
    {
     "data": {
      "image/png": "[encoded data removed]",
      "text/plain": [
       "<Figure size 720x360 with 1 Axes>"
      ]
     },
     "metadata": {
      "needs_background": "light"
     },
     "output_type": "display_data"
    },
    {
     "data": {
      "image/png": "[encoded data removed]",
      "text/plain": [
       "<Figure size 720x360 with 1 Axes>"
      ]
     },
     "metadata": {
      "needs_background": "light"
     },
     "output_type": "display_data"
    },
    {
     "data": {
      "image/png": "[encoded data removed]",
      "text/plain": [
       "<Figure size 720x360 with 1 Axes>"
      ]
     },
     "metadata": {
      "needs_background": "light"
     },
     "output_type": "display_data"
    },
    {
     "data": {
      "image/png": "[encoded data removed]",
      "text/plain": [
       "<Figure size 720x360 with 1 Axes>"
      ]
     },
     "metadata": {
      "needs_background": "light"
     },
     "output_type": "display_data"
    },
    {
     "data": {
      "image/png": "[encoded data removed]",
      "text/plain": [
       "<Figure size 720x360 with 1 Axes>"
      ]
     },
     "metadata": {
      "needs_background": "light"
     },
     "output_type": "display_data"
    },
    {
     "data": {
      "image/png": "[encoded data removed]",
      "text/plain": [
       "<Figure size 720x360 with 1 Axes>"
      ]
     },
     "metadata": {
      "needs_background": "light"
     },
     "output_type": "display_data"
    }
   ],
   "source": [
    "for i in df.columns[1:]:\n",
    "    if not i in cat and i!='Exited':\n",
    "        df[i].hist(color = 'Green',figsize = (10,5))\n",
    "        plt.title(f'{i.upper()}')\n",
    "        plt.show()"
   ]
  },
  {
   "cell_type": "markdown",
   "metadata": {},
   "source": [
    "- The distribution of age variable is skewed to the left when the majority of customers in the dataset are between 30 and 40 years old. In addition, there are some very old customers between 70 and 90 years old.\n",
    "- There are a large number of customers with no money in their accounts (balance = 0).\n",
    "- Most of customers are utilising 1 or 2 bank products.\n",
    "- The number of customers distributed at each credit score level is the same, there is no significant difference. Spending score variable shows the same thing."
   ]
  },
  {
   "cell_type": "markdown",
   "metadata": {},
   "source": [
    "***Now comes the target variable.***"
   ]
  },
  {
   "cell_type": "code",
   "execution_count": 10,
   "metadata": {},
   "outputs": [
    {
     "data": {
      "image/png": "[encoded data removed]",
      "text/plain": [
       "<Figure size 720x504 with 1 Axes>"
      ]
     },
     "metadata": {},
     "output_type": "display_data"
    }
   ],
   "source": [
    "fig = plt.figure(figsize =(10, 7))\n",
    "plt.pie(df['Exited'].value_counts(), labels = [\"Retain\",\"Exited\"], colors = ['Green','r']\n",
    "        , autopct='%.1f%%' ,textprops={'fontsize': 15},\n",
    "        wedgeprops={'edgecolor': 'white', 'linewidth': 1})\n",
    "plt.title('TARGET VARIABLE');"
   ]
  },
  {
   "cell_type": "markdown",
   "metadata": {},
   "source": [
    "It can be seen from the pie chart that Customers who closed their accounts account for only about 11%, the rest are customers who still retain their accounts. This dataset is imbalance."
   ]
  },
  {
   "cell_type": "markdown",
   "metadata": {},
   "source": [
    "***I will draw graphs showing the relationship between target variable and numeric variables.***"
   ]
  },
  {
   "cell_type": "code",
   "execution_count": 11,
   "metadata": {
    "scrolled": false
   },
   "outputs": [
    {
     "data": {
      "image/png": "[encoded data removed]",
      "text/plain": [
       "<Figure size 432x288 with 1 Axes>"
      ]
     },
     "metadata": {
      "needs_background": "light"
     },
     "output_type": "display_data"
    },
    {
     "data": {
      "image/png": "[encoded data removed]",
      "text/plain": [
       "<Figure size 432x288 with 1 Axes>"
      ]
     },
     "metadata": {
      "needs_background": "light"
     },
     "output_type": "display_data"
    },
    {
     "data": {
      "image/png": "[encoded data removed]",
      "text/plain": [
       "<Figure size 432x288 with 1 Axes>"
      ]
     },
     "metadata": {
      "needs_background": "light"
     },
     "output_type": "display_data"
    },
    {
     "data": {
      "image/png": "[encoded data removed]",
      "text/plain": [
       "<Figure size 432x288 with 1 Axes>"
      ]
     },
     "metadata": {
      "needs_background": "light"
     },
     "output_type": "display_data"
    },
    {
     "data": {
      "image/png": "[encoded data removed]",
      "text/plain": [
       "<Figure size 432x288 with 1 Axes>"
      ]
     },
     "metadata": {
      "needs_background": "light"
     },
     "output_type": "display_data"
    },
    {
     "data": {
      "image/png": "[encoded data removed]",
      "text/plain": [
       "<Figure size 432x288 with 1 Axes>"
      ]
     },
     "metadata": {
      "needs_background": "light"
     },
     "output_type": "display_data"
    },
    {
     "data": {
      "image/png": "[encoded data removed]",
      "text/plain": [
       "<Figure size 432x288 with 1 Axes>"
      ]
     },
     "metadata": {
      "needs_background": "light"
     },
     "output_type": "display_data"
    }
   ],
   "source": [
    "for i in df.columns:\n",
    "    if not i in cat and i!= 'Exited':\n",
    "        df.groupby('Exited')[i].mean().plot(kind='bar',color = 'teal')\n",
    "        plt.title(i.upper())\n",
    "        plt.ylabel(f'Mean {i}')\n",
    "        plt.show()"
   ]
  },
  {
   "cell_type": "markdown",
   "metadata": {},
   "source": [
    "It is quite difficult to draw conclusions from the above graphs. So let's perform by number to have a closer look."
   ]
  },
  {
   "cell_type": "code",
   "execution_count": 12,
   "metadata": {},
   "outputs": [
    {
     "name": "stdout",
     "output_type": "stream",
     "text": [
      "Exited\n",
      "0    650.184247\n",
      "1    651.202224\n",
      "Name: CreditScore, dtype: float64\n",
      "Exited\n",
      "0    38.960305\n",
      "1    38.393327\n",
      "Name: Age, dtype: float64\n",
      "Exited\n",
      "0    4.969542\n",
      "1    4.949444\n",
      "Name: Tenure, dtype: float64\n",
      "Exited\n",
      "0    1.676769e+09\n",
      "1    1.692688e+09\n",
      "Name: Balance, dtype: float64\n",
      "Exited\n",
      "0    1.529272\n",
      "1    1.525784\n",
      "Name: NumOfProducts, dtype: float64\n",
      "Exited\n",
      "0    4.404996e+08\n",
      "1    4.341829e+08\n",
      "Name: EstimatedSalary, dtype: float64\n",
      "Exited\n",
      "0    50.212458\n",
      "1    50.767442\n",
      "Name: SpendingScore, dtype: float64\n"
     ]
    }
   ],
   "source": [
    "for i in df.columns:\n",
    "    if not i in cat and i!= 'Exited':\n",
    "         print(df.groupby('Exited')[i].mean())"
   ]
  },
  {
   "cell_type": "markdown",
   "metadata": {},
   "source": [
    "There is almost no significant difference between the two groups of customers retained and exited in all of the above variables. The relationship of the target variable and those variables is also not clear."
   ]
  },
  {
   "cell_type": "code",
   "execution_count": 13,
   "metadata": {},
   "outputs": [
    {
     "name": "stdout",
     "output_type": "stream",
     "text": [
      "                  Geography\n",
      "Exited Geography           \n",
      "0      North           4074\n",
      "       South           1973\n",
      "       Mid             1964\n",
      "1      North            467\n",
      "       Mid              280\n",
      "       South            242\n",
      "               Gender\n",
      "Exited Gender        \n",
      "0      Male      4340\n",
      "       Female    3671\n",
      "1      Male       578\n",
      "       Female     411\n",
      "                      Family\n",
      "Exited Family               \n",
      "0      Single           5048\n",
      "       Married          2883\n",
      "       Divorced           52\n",
      "       Not specified      28\n",
      "1      Single            596\n",
      "       Married           381\n",
      "       Divorced            7\n",
      "       Not specified       5\n"
     ]
    }
   ],
   "source": [
    "for i in cat:\n",
    "    print(pd.DataFrame(df.groupby('Exited')[i].value_counts()))"
   ]
  },
  {
   "cell_type": "markdown",
   "metadata": {},
   "source": [
    "In each category variable, considering each category of the variable, the percentage of customers distributed into each class is almost equal to the percentage of customers distributed into corresponding class on the entire data set (about 89% for those retain, 11% for exited customers)."
   ]
  },
  {
   "cell_type": "markdown",
   "metadata": {},
   "source": [
    "# One - hot Encoding"
   ]
  },
  {
   "cell_type": "code",
   "execution_count": 14,
   "metadata": {},
   "outputs": [],
   "source": [
    "df_final = pd.get_dummies(df,columns=cat,drop_first=True)"
   ]
  },
  {
   "cell_type": "code",
   "execution_count": 15,
   "metadata": {},
   "outputs": [
    {
     "data": {
      "text/html": [
       "<div>\n",
       "<style scoped>\n",
       "    .dataframe tbody tr th:only-of-type {\n",
       "        vertical-align: middle;\n",
       "    }\n",
       "\n",
       "    .dataframe tbody tr th {\n",
       "        vertical-align: top;\n",
       "    }\n",
       "\n",
       "    .dataframe thead th {\n",
       "        text-align: right;\n",
       "    }\n",
       "</style>\n",
       "<table border=\"1\" class=\"dataframe\">\n",
       "  <thead>\n",
       "    <tr style=\"text-align: right;\">\n",
       "      <th></th>\n",
       "      <th>CreditScore</th>\n",
       "      <th>Age</th>\n",
       "      <th>Tenure</th>\n",
       "      <th>Balance</th>\n",
       "      <th>NumOfProducts</th>\n",
       "      <th>EstimatedSalary</th>\n",
       "      <th>SpendingScore</th>\n",
       "      <th>Exited</th>\n",
       "      <th>Geography_North</th>\n",
       "      <th>Geography_South</th>\n",
       "      <th>Gender_Male</th>\n",
       "      <th>Family_Married</th>\n",
       "      <th>Family_Not specified</th>\n",
       "      <th>Family_Single</th>\n",
       "    </tr>\n",
       "  </thead>\n",
       "  <tbody>\n",
       "    <tr>\n",
       "      <th>0</th>\n",
       "      <td>666</td>\n",
       "      <td>44</td>\n",
       "      <td>2</td>\n",
       "      <td>2690919000</td>\n",
       "      <td>1</td>\n",
       "      <td>301729000</td>\n",
       "      <td>18</td>\n",
       "      <td>0</td>\n",
       "      <td>0</td>\n",
       "      <td>0</td>\n",
       "      <td>0</td>\n",
       "      <td>1</td>\n",
       "      <td>0</td>\n",
       "      <td>0</td>\n",
       "    </tr>\n",
       "    <tr>\n",
       "      <th>1</th>\n",
       "      <td>597</td>\n",
       "      <td>22</td>\n",
       "      <td>4</td>\n",
       "      <td>2233629000</td>\n",
       "      <td>1</td>\n",
       "      <td>310328000</td>\n",
       "      <td>45</td>\n",
       "      <td>0</td>\n",
       "      <td>0</td>\n",
       "      <td>0</td>\n",
       "      <td>0</td>\n",
       "      <td>0</td>\n",
       "      <td>0</td>\n",
       "      <td>1</td>\n",
       "    </tr>\n",
       "    <tr>\n",
       "      <th>2</th>\n",
       "      <td>655</td>\n",
       "      <td>39</td>\n",
       "      <td>6</td>\n",
       "      <td>2081888000</td>\n",
       "      <td>2</td>\n",
       "      <td>655373000</td>\n",
       "      <td>12</td>\n",
       "      <td>0</td>\n",
       "      <td>1</td>\n",
       "      <td>0</td>\n",
       "      <td>0</td>\n",
       "      <td>1</td>\n",
       "      <td>0</td>\n",
       "      <td>0</td>\n",
       "    </tr>\n",
       "    <tr>\n",
       "      <th>3</th>\n",
       "      <td>707</td>\n",
       "      <td>40</td>\n",
       "      <td>5</td>\n",
       "      <td>0</td>\n",
       "      <td>2</td>\n",
       "      <td>180632000</td>\n",
       "      <td>49</td>\n",
       "      <td>0</td>\n",
       "      <td>1</td>\n",
       "      <td>0</td>\n",
       "      <td>0</td>\n",
       "      <td>0</td>\n",
       "      <td>0</td>\n",
       "      <td>1</td>\n",
       "    </tr>\n",
       "    <tr>\n",
       "      <th>4</th>\n",
       "      <td>661</td>\n",
       "      <td>38</td>\n",
       "      <td>7</td>\n",
       "      <td>3146147000</td>\n",
       "      <td>1</td>\n",
       "      <td>68864000</td>\n",
       "      <td>44</td>\n",
       "      <td>0</td>\n",
       "      <td>0</td>\n",
       "      <td>1</td>\n",
       "      <td>1</td>\n",
       "      <td>0</td>\n",
       "      <td>0</td>\n",
       "      <td>1</td>\n",
       "    </tr>\n",
       "    <tr>\n",
       "      <th>...</th>\n",
       "      <td>...</td>\n",
       "      <td>...</td>\n",
       "      <td>...</td>\n",
       "      <td>...</td>\n",
       "      <td>...</td>\n",
       "      <td>...</td>\n",
       "      <td>...</td>\n",
       "      <td>...</td>\n",
       "      <td>...</td>\n",
       "      <td>...</td>\n",
       "      <td>...</td>\n",
       "      <td>...</td>\n",
       "      <td>...</td>\n",
       "      <td>...</td>\n",
       "    </tr>\n",
       "    <tr>\n",
       "      <th>8995</th>\n",
       "      <td>850</td>\n",
       "      <td>22</td>\n",
       "      <td>4</td>\n",
       "      <td>2014333000</td>\n",
       "      <td>2</td>\n",
       "      <td>46382000</td>\n",
       "      <td>44</td>\n",
       "      <td>1</td>\n",
       "      <td>0</td>\n",
       "      <td>0</td>\n",
       "      <td>1</td>\n",
       "      <td>1</td>\n",
       "      <td>0</td>\n",
       "      <td>0</td>\n",
       "    </tr>\n",
       "    <tr>\n",
       "      <th>8996</th>\n",
       "      <td>735</td>\n",
       "      <td>53</td>\n",
       "      <td>8</td>\n",
       "      <td>2724598000</td>\n",
       "      <td>2</td>\n",
       "      <td>750002000</td>\n",
       "      <td>22</td>\n",
       "      <td>0</td>\n",
       "      <td>1</td>\n",
       "      <td>0</td>\n",
       "      <td>0</td>\n",
       "      <td>0</td>\n",
       "      <td>0</td>\n",
       "      <td>1</td>\n",
       "    </tr>\n",
       "    <tr>\n",
       "      <th>8997</th>\n",
       "      <td>631</td>\n",
       "      <td>36</td>\n",
       "      <td>1</td>\n",
       "      <td>0</td>\n",
       "      <td>2</td>\n",
       "      <td>585822000</td>\n",
       "      <td>33</td>\n",
       "      <td>0</td>\n",
       "      <td>1</td>\n",
       "      <td>0</td>\n",
       "      <td>1</td>\n",
       "      <td>0</td>\n",
       "      <td>0</td>\n",
       "      <td>1</td>\n",
       "    </tr>\n",
       "    <tr>\n",
       "      <th>8998</th>\n",
       "      <td>792</td>\n",
       "      <td>25</td>\n",
       "      <td>7</td>\n",
       "      <td>3142969000</td>\n",
       "      <td>1</td>\n",
       "      <td>574812000</td>\n",
       "      <td>28</td>\n",
       "      <td>0</td>\n",
       "      <td>0</td>\n",
       "      <td>1</td>\n",
       "      <td>1</td>\n",
       "      <td>0</td>\n",
       "      <td>0</td>\n",
       "      <td>1</td>\n",
       "    </tr>\n",
       "    <tr>\n",
       "      <th>8999</th>\n",
       "      <td>551</td>\n",
       "      <td>32</td>\n",
       "      <td>4</td>\n",
       "      <td>0</td>\n",
       "      <td>2</td>\n",
       "      <td>235050000</td>\n",
       "      <td>46</td>\n",
       "      <td>0</td>\n",
       "      <td>0</td>\n",
       "      <td>1</td>\n",
       "      <td>1</td>\n",
       "      <td>0</td>\n",
       "      <td>0</td>\n",
       "      <td>1</td>\n",
       "    </tr>\n",
       "  </tbody>\n",
       "</table>\n",
       "<p>9000 rows × 14 columns</p>\n",
       "</div>"
      ],
      "text/plain": [
       "      CreditScore  Age  Tenure     Balance  NumOfProducts  EstimatedSalary  \\\n",
       "0             666   44       2  2690919000              1        301729000   \n",
       "1             597   22       4  2233629000              1        310328000   \n",
       "2             655   39       6  2081888000              2        655373000   \n",
       "3             707   40       5           0              2        180632000   \n",
       "4             661   38       7  3146147000              1         68864000   \n",
       "...           ...  ...     ...         ...            ...              ...   \n",
       "8995          850   22       4  2014333000              2         46382000   \n",
       "8996          735   53       8  2724598000              2        750002000   \n",
       "8997          631   36       1           0              2        585822000   \n",
       "8998          792   25       7  3142969000              1        574812000   \n",
       "8999          551   32       4           0              2        235050000   \n",
       "\n",
       "      SpendingScore  Exited  Geography_North  Geography_South  Gender_Male  \\\n",
       "0                18       0                0                0            0   \n",
       "1                45       0                0                0            0   \n",
       "2                12       0                1                0            0   \n",
       "3                49       0                1                0            0   \n",
       "4                44       0                0                1            1   \n",
       "...             ...     ...              ...              ...          ...   \n",
       "8995             44       1                0                0            1   \n",
       "8996             22       0                1                0            0   \n",
       "8997             33       0                1                0            1   \n",
       "8998             28       0                0                1            1   \n",
       "8999             46       0                0                1            1   \n",
       "\n",
       "      Family_Married  Family_Not specified  Family_Single  \n",
       "0                  1                     0              0  \n",
       "1                  0                     0              1  \n",
       "2                  1                     0              0  \n",
       "3                  0                     0              1  \n",
       "4                  0                     0              1  \n",
       "...              ...                   ...            ...  \n",
       "8995               1                     0              0  \n",
       "8996               0                     0              1  \n",
       "8997               0                     0              1  \n",
       "8998               0                     0              1  \n",
       "8999               0                     0              1  \n",
       "\n",
       "[9000 rows x 14 columns]"
      ]
     },
     "execution_count": 15,
     "metadata": {},
     "output_type": "execute_result"
    }
   ],
   "source": [
    "df_final"
   ]
  },
  {
   "cell_type": "code",
   "execution_count": 16,
   "metadata": {},
   "outputs": [
    {
     "data": {
      "text/plain": [
       "<matplotlib.axes._subplots.AxesSubplot at 0x1d724fc9190>"
      ]
     },
     "execution_count": 16,
     "metadata": {},
     "output_type": "execute_result"
    },
    {
     "data": {
      "image/png": "[encoded data removed]",
      "text/plain": [
       "<Figure size 432x288 with 2 Axes>"
      ]
     },
     "metadata": {
      "needs_background": "light"
     },
     "output_type": "display_data"
    }
   ],
   "source": [
    "sns.heatmap(df_final.corr(),cmap = 'Greens')"
   ]
  },
  {
   "cell_type": "markdown",
   "metadata": {},
   "source": [
    "There is no obvious correlation between variables because the correlation coefficient mostly fluctuates around 0."
   ]
  },
  {
   "cell_type": "markdown",
   "metadata": {},
   "source": [
    "# Splitting the data"
   ]
  },
  {
   "cell_type": "code",
   "execution_count": 17,
   "metadata": {},
   "outputs": [],
   "source": [
    "X = df_final.drop(['Exited'],axis=1)\n",
    "y=df_final['Exited']"
   ]
  },
  {
   "cell_type": "code",
   "execution_count": 18,
   "metadata": {},
   "outputs": [],
   "source": [
    "X_train, X_test, y_train, y_test=train_test_split(X,y,test_size=0.2, random_state=0)"
   ]
  },
  {
   "cell_type": "markdown",
   "metadata": {},
   "source": [
    "# Make predictions with models"
   ]
  },
  {
   "cell_type": "markdown",
   "metadata": {},
   "source": [
    "I choose 3 models:\n",
    "- Random Forest\n",
    "    1. Less prone to overfitting than Decision Tree and other algorithms.\n",
    "    2. Works well with non-linear data.\n",
    "    3. Handle big data with numerous variables running into thousands.\n",
    "- Logistic Regression\n",
    "    1. Easier to implement, interpret, and very efficient to train.\n",
    "    2. More accurate for simple data.\n",
    "    3. Less prone to overfitting.\n",
    "- K - Nearest Neighbors Classifier\n",
    "    1. Easy to implement.\n",
    "    2. Low computational complexity.\n",
    "    3. Flexible with multi-class problems."
   ]
  },
  {
   "cell_type": "markdown",
   "metadata": {},
   "source": [
    "Input data to tree - based model such as or Random Forest do not need to scale. So I will do it first."
   ]
  },
  {
   "cell_type": "markdown",
   "metadata": {},
   "source": [
    "Now I will find the optimal n_estimators for the Random Forest model."
   ]
  },
  {
   "cell_type": "code",
   "execution_count": 19,
   "metadata": {},
   "outputs": [
    {
     "name": "stdout",
     "output_type": "stream",
     "text": [
      "Random Forest tuned hyperparameters :(best parameters)  {'n_estimators': 200}\n"
     ]
    }
   ],
   "source": [
    "from sklearn.ensemble import RandomForestClassifier\n",
    "from sklearn.model_selection import GridSearchCV\n",
    "rf = RandomForestClassifier(random_state = 0) \n",
    "n_range = [10,20,50,100,150,200]\n",
    "param_grid = dict(n_estimators=n_range)\n",
    "grid_rf = GridSearchCV(rf, param_grid, cv=5, scoring='accuracy')\n",
    "grid_rf.fit(X_train,y_train)\n",
    "print(\"Random Forest tuned hyperparameters :(best parameters) \",grid_rf.best_params_)"
   ]
  },
  {
   "cell_type": "markdown",
   "metadata": {},
   "source": [
    "The best value for n_estimators is 200."
   ]
  },
  {
   "cell_type": "code",
   "execution_count": 20,
   "metadata": {},
   "outputs": [
    {
     "name": "stderr",
     "output_type": "stream",
     "text": [
      "C:\\Users\\Khang Lam\\AppData\\Roaming\\Python\\Python38\\site-packages\\sklearn\\utils\\deprecation.py:87: FutureWarning: Function plot_confusion_matrix is deprecated; Function `plot_confusion_matrix` is deprecated in 1.0 and will be removed in 1.2. Use one of the class methods: ConfusionMatrixDisplay.from_predictions or ConfusionMatrixDisplay.from_estimator.\n",
      "  warnings.warn(msg, category=FutureWarning)\n",
      "C:\\Users\\Khang Lam\\AppData\\Roaming\\Python\\Python38\\site-packages\\sklearn\\metrics\\_classification.py:1327: UndefinedMetricWarning: Precision and F-score are ill-defined and being set to 0.0 in labels with no predicted samples. Use `zero_division` parameter to control this behavior.\n",
      "  _warn_prf(average, modifier, msg_start, len(result))\n",
      "C:\\Users\\Khang Lam\\AppData\\Roaming\\Python\\Python38\\site-packages\\sklearn\\metrics\\_classification.py:1327: UndefinedMetricWarning: Precision and F-score are ill-defined and being set to 0.0 in labels with no predicted samples. Use `zero_division` parameter to control this behavior.\n",
      "  _warn_prf(average, modifier, msg_start, len(result))\n",
      "C:\\Users\\Khang Lam\\AppData\\Roaming\\Python\\Python38\\site-packages\\sklearn\\metrics\\_classification.py:1327: UndefinedMetricWarning: Precision and F-score are ill-defined and being set to 0.0 in labels with no predicted samples. Use `zero_division` parameter to control this behavior.\n",
      "  _warn_prf(average, modifier, msg_start, len(result))\n"
     ]
    },
    {
     "name": "stdout",
     "output_type": "stream",
     "text": [
      "              precision    recall  f1-score   support\n",
      "\n",
      "           0       0.89      1.00      0.94      1606\n",
      "           1       0.00      0.00      0.00       194\n",
      "\n",
      "    accuracy                           0.89      1800\n",
      "   macro avg       0.45      0.50      0.47      1800\n",
      "weighted avg       0.80      0.89      0.84      1800\n",
      "\n",
      "Random Forest Accuracy: 89.0%\n"
     ]
    },
    {
     "data": {
      "image/png": "[encoded data removed]",
      "text/plain": [
       "<Figure size 432x288 with 2 Axes>"
      ]
     },
     "metadata": {
      "needs_background": "light"
     },
     "output_type": "display_data"
    }
   ],
   "source": [
    "y_pred = grid_rf.predict(X_test)\n",
    "cm = confusion_matrix(y_test, y_pred)\n",
    "plot_confusion_matrix(grid_rf, X_test, y_test,cmap='Greens')\n",
    "print(classification_report(y_test, y_pred))\n",
    "print(f'Random Forest Accuracy: {100*round(accuracy_score(y_test, y_pred),2)}%')"
   ]
  },
  {
   "cell_type": "markdown",
   "metadata": {},
   "source": [
    "The accuracy rate is quite good but the model can not predict the customers that is actually exited as a result of imbalanced dataset."
   ]
  },
  {
   "cell_type": "code",
   "execution_count": 21,
   "metadata": {},
   "outputs": [],
   "source": [
    "from sklearn.preprocessing import StandardScaler\n",
    "sc = StandardScaler()\n",
    "X_train = sc.fit_transform(X_train)\n",
    "X_test = sc.transform(X_test)"
   ]
  },
  {
   "cell_type": "code",
   "execution_count": 22,
   "metadata": {},
   "outputs": [
    {
     "name": "stderr",
     "output_type": "stream",
     "text": [
      "C:\\Users\\Khang Lam\\AppData\\Roaming\\Python\\Python38\\site-packages\\sklearn\\utils\\deprecation.py:87: FutureWarning: Function plot_confusion_matrix is deprecated; Function `plot_confusion_matrix` is deprecated in 1.0 and will be removed in 1.2. Use one of the class methods: ConfusionMatrixDisplay.from_predictions or ConfusionMatrixDisplay.from_estimator.\n",
      "  warnings.warn(msg, category=FutureWarning)\n",
      "C:\\Users\\Khang Lam\\AppData\\Roaming\\Python\\Python38\\site-packages\\sklearn\\metrics\\_classification.py:1327: UndefinedMetricWarning: Precision and F-score are ill-defined and being set to 0.0 in labels with no predicted samples. Use `zero_division` parameter to control this behavior.\n",
      "  _warn_prf(average, modifier, msg_start, len(result))\n",
      "C:\\Users\\Khang Lam\\AppData\\Roaming\\Python\\Python38\\site-packages\\sklearn\\metrics\\_classification.py:1327: UndefinedMetricWarning: Precision and F-score are ill-defined and being set to 0.0 in labels with no predicted samples. Use `zero_division` parameter to control this behavior.\n",
      "  _warn_prf(average, modifier, msg_start, len(result))\n",
      "C:\\Users\\Khang Lam\\AppData\\Roaming\\Python\\Python38\\site-packages\\sklearn\\metrics\\_classification.py:1327: UndefinedMetricWarning: Precision and F-score are ill-defined and being set to 0.0 in labels with no predicted samples. Use `zero_division` parameter to control this behavior.\n",
      "  _warn_prf(average, modifier, msg_start, len(result))\n"
     ]
    },
    {
     "name": "stdout",
     "output_type": "stream",
     "text": [
      "              precision    recall  f1-score   support\n",
      "\n",
      "           0       0.89      1.00      0.94      1606\n",
      "           1       0.00      0.00      0.00       194\n",
      "\n",
      "    accuracy                           0.89      1800\n",
      "   macro avg       0.45      0.50      0.47      1800\n",
      "weighted avg       0.80      0.89      0.84      1800\n",
      "\n",
      "Logistic Accuracy: 89.0%\n"
     ]
    },
    {
     "data": {
      "image/png": "[encoded data removed]",
      "text/plain": [
       "<Figure size 432x288 with 2 Axes>"
      ]
     },
     "metadata": {
      "needs_background": "light"
     },
     "output_type": "display_data"
    }
   ],
   "source": [
    "from sklearn.linear_model import LogisticRegression\n",
    "classifier = LogisticRegression(random_state = 0)\n",
    "model_lg = classifier.fit(X_train, y_train)\n",
    "y_pred = classifier.predict(X_test)\n",
    "cm = confusion_matrix(y_test, y_pred)\n",
    "plot_confusion_matrix(model_lg, X_test, y_test,cmap='Greens')\n",
    "print(classification_report(y_test, y_pred))\n",
    "print(f'Logistic Accuracy: {100*round(accuracy_score(y_test, y_pred),2)}%')"
   ]
  },
  {
   "cell_type": "code",
   "execution_count": 23,
   "metadata": {},
   "outputs": [
    {
     "name": "stdout",
     "output_type": "stream",
     "text": [
      "Tuned hyperparameters :(best parameters)  {'n_neighbors': 10}\n"
     ]
    }
   ],
   "source": [
    "from sklearn.neighbors import KNeighborsClassifier\n",
    "from sklearn.model_selection import GridSearchCV\n",
    "knn = KNeighborsClassifier() \n",
    "k_range = list(range(1, 31))\n",
    "param_grid = dict(n_neighbors=k_range)\n",
    "grid_knn = GridSearchCV(knn, param_grid, cv=5, scoring='accuracy')\n",
    "grid_knn.fit(X_train,y_train)\n",
    "print(\"Tuned hyperparameters :(best parameters) \",grid_knn.best_params_)"
   ]
  },
  {
   "cell_type": "markdown",
   "metadata": {},
   "source": [
    "The best value for n_neighbors is 10."
   ]
  },
  {
   "cell_type": "code",
   "execution_count": 24,
   "metadata": {},
   "outputs": [
    {
     "name": "stderr",
     "output_type": "stream",
     "text": [
      "C:\\Users\\Khang Lam\\AppData\\Roaming\\Python\\Python38\\site-packages\\sklearn\\utils\\deprecation.py:87: FutureWarning: Function plot_confusion_matrix is deprecated; Function `plot_confusion_matrix` is deprecated in 1.0 and will be removed in 1.2. Use one of the class methods: ConfusionMatrixDisplay.from_predictions or ConfusionMatrixDisplay.from_estimator.\n",
      "  warnings.warn(msg, category=FutureWarning)\n"
     ]
    },
    {
     "name": "stdout",
     "output_type": "stream",
     "text": [
      "              precision    recall  f1-score   support\n",
      "\n",
      "           0       0.89      1.00      0.94      1606\n",
      "           1       0.00      0.00      0.00       194\n",
      "\n",
      "    accuracy                           0.89      1800\n",
      "   macro avg       0.45      0.50      0.47      1800\n",
      "weighted avg       0.80      0.89      0.84      1800\n",
      "\n",
      "KNN Accuracy: 89.0%\n"
     ]
    },
    {
     "data": {
      "image/png": "[encoded data removed]",
      "text/plain": [
       "<Figure size 432x288 with 2 Axes>"
      ]
     },
     "metadata": {
      "needs_background": "light"
     },
     "output_type": "display_data"
    }
   ],
   "source": [
    "y_pred = grid_knn.predict(X_test)\n",
    "cm = confusion_matrix(y_test, y_pred)\n",
    "plot_confusion_matrix(grid_knn, X_test, y_test,cmap='Greens')\n",
    "print(classification_report(y_test, y_pred))\n",
    "print(f'KNN Accuracy: {100*round(accuracy_score(y_test, y_pred),2)}%')"
   ]
  },
  {
   "cell_type": "markdown",
   "metadata": {},
   "source": [
    "The accuracy rate of the above models are quite good but the model can not predict the customers, just like random forest."
   ]
  },
  {
   "cell_type": "markdown",
   "metadata": {},
   "source": [
    "All the models are terribly affected by the imbalance dataset. Tunning hyperparameter can not bring back good results."
   ]
  },
  {
   "cell_type": "markdown",
   "metadata": {},
   "source": [
    "***Let's see how the models perform on the test sample dataset***"
   ]
  },
  {
   "cell_type": "code",
   "execution_count": 25,
   "metadata": {},
   "outputs": [],
   "source": [
    "df_test = pd.read_csv('E:\\Lam Nhut Thinh\\Machine Learning\\\\test_sample_data.csv')"
   ]
  },
  {
   "cell_type": "code",
   "execution_count": 26,
   "metadata": {},
   "outputs": [
    {
     "data": {
      "text/html": [
       "<div>\n",
       "<style scoped>\n",
       "    .dataframe tbody tr th:only-of-type {\n",
       "        vertical-align: middle;\n",
       "    }\n",
       "\n",
       "    .dataframe tbody tr th {\n",
       "        vertical-align: top;\n",
       "    }\n",
       "\n",
       "    .dataframe thead th {\n",
       "        text-align: right;\n",
       "    }\n",
       "</style>\n",
       "<table border=\"1\" class=\"dataframe\">\n",
       "  <thead>\n",
       "    <tr style=\"text-align: right;\">\n",
       "      <th></th>\n",
       "      <th>CustomerId</th>\n",
       "      <th>CreditScore</th>\n",
       "      <th>Geography</th>\n",
       "      <th>Gender</th>\n",
       "      <th>Age</th>\n",
       "      <th>Tenure</th>\n",
       "      <th>Balance</th>\n",
       "      <th>NumOfProducts</th>\n",
       "      <th>EstimatedSalary</th>\n",
       "      <th>SpendingScore</th>\n",
       "      <th>Family</th>\n",
       "      <th>Exited</th>\n",
       "    </tr>\n",
       "  </thead>\n",
       "  <tbody>\n",
       "    <tr>\n",
       "      <th>0</th>\n",
       "      <td>15771442</td>\n",
       "      <td>633</td>\n",
       "      <td>North</td>\n",
       "      <td>Male</td>\n",
       "      <td>40</td>\n",
       "      <td>4</td>\n",
       "      <td>3312716000</td>\n",
       "      <td>1</td>\n",
       "      <td>152551000</td>\n",
       "      <td>45</td>\n",
       "      <td>Single</td>\n",
       "      <td>0</td>\n",
       "    </tr>\n",
       "    <tr>\n",
       "      <th>1</th>\n",
       "      <td>15700174</td>\n",
       "      <td>733</td>\n",
       "      <td>South</td>\n",
       "      <td>Female</td>\n",
       "      <td>30</td>\n",
       "      <td>1</td>\n",
       "      <td>1833024000</td>\n",
       "      <td>1</td>\n",
       "      <td>254184000</td>\n",
       "      <td>38</td>\n",
       "      <td>Single</td>\n",
       "      <td>0</td>\n",
       "    </tr>\n",
       "    <tr>\n",
       "      <th>2</th>\n",
       "      <td>15747503</td>\n",
       "      <td>705</td>\n",
       "      <td>South</td>\n",
       "      <td>Male</td>\n",
       "      <td>44</td>\n",
       "      <td>1</td>\n",
       "      <td>4060147000</td>\n",
       "      <td>1</td>\n",
       "      <td>302985000</td>\n",
       "      <td>39</td>\n",
       "      <td>Single</td>\n",
       "      <td>0</td>\n",
       "    </tr>\n",
       "    <tr>\n",
       "      <th>3</th>\n",
       "      <td>15599433</td>\n",
       "      <td>660</td>\n",
       "      <td>Mid</td>\n",
       "      <td>Male</td>\n",
       "      <td>35</td>\n",
       "      <td>8</td>\n",
       "      <td>1290111000</td>\n",
       "      <td>1</td>\n",
       "      <td>874166000</td>\n",
       "      <td>97</td>\n",
       "      <td>Single</td>\n",
       "      <td>0</td>\n",
       "    </tr>\n",
       "    <tr>\n",
       "      <th>4</th>\n",
       "      <td>15763194</td>\n",
       "      <td>643</td>\n",
       "      <td>North</td>\n",
       "      <td>Male</td>\n",
       "      <td>34</td>\n",
       "      <td>7</td>\n",
       "      <td>0</td>\n",
       "      <td>2</td>\n",
       "      <td>441338000</td>\n",
       "      <td>21</td>\n",
       "      <td>Married</td>\n",
       "      <td>0</td>\n",
       "    </tr>\n",
       "    <tr>\n",
       "      <th>...</th>\n",
       "      <td>...</td>\n",
       "      <td>...</td>\n",
       "      <td>...</td>\n",
       "      <td>...</td>\n",
       "      <td>...</td>\n",
       "      <td>...</td>\n",
       "      <td>...</td>\n",
       "      <td>...</td>\n",
       "      <td>...</td>\n",
       "      <td>...</td>\n",
       "      <td>...</td>\n",
       "      <td>...</td>\n",
       "    </tr>\n",
       "    <tr>\n",
       "      <th>995</th>\n",
       "      <td>15595883</td>\n",
       "      <td>540</td>\n",
       "      <td>Mid</td>\n",
       "      <td>Male</td>\n",
       "      <td>39</td>\n",
       "      <td>4</td>\n",
       "      <td>2800123000</td>\n",
       "      <td>1</td>\n",
       "      <td>71061000</td>\n",
       "      <td>85</td>\n",
       "      <td>Married</td>\n",
       "      <td>0</td>\n",
       "    </tr>\n",
       "    <tr>\n",
       "      <th>996</th>\n",
       "      <td>15790599</td>\n",
       "      <td>756</td>\n",
       "      <td>Mid</td>\n",
       "      <td>Female</td>\n",
       "      <td>39</td>\n",
       "      <td>5</td>\n",
       "      <td>3285989000</td>\n",
       "      <td>2</td>\n",
       "      <td>480033000</td>\n",
       "      <td>78</td>\n",
       "      <td>Married</td>\n",
       "      <td>0</td>\n",
       "    </tr>\n",
       "    <tr>\n",
       "      <th>997</th>\n",
       "      <td>15665087</td>\n",
       "      <td>595</td>\n",
       "      <td>Mid</td>\n",
       "      <td>Female</td>\n",
       "      <td>26</td>\n",
       "      <td>8</td>\n",
       "      <td>2608050000</td>\n",
       "      <td>1</td>\n",
       "      <td>665246000</td>\n",
       "      <td>93</td>\n",
       "      <td>Single</td>\n",
       "      <td>1</td>\n",
       "    </tr>\n",
       "    <tr>\n",
       "      <th>998</th>\n",
       "      <td>15660602</td>\n",
       "      <td>464</td>\n",
       "      <td>Mid</td>\n",
       "      <td>Male</td>\n",
       "      <td>33</td>\n",
       "      <td>8</td>\n",
       "      <td>3614264000</td>\n",
       "      <td>2</td>\n",
       "      <td>16325000</td>\n",
       "      <td>15</td>\n",
       "      <td>Single</td>\n",
       "      <td>0</td>\n",
       "    </tr>\n",
       "    <tr>\n",
       "      <th>999</th>\n",
       "      <td>15622321</td>\n",
       "      <td>506</td>\n",
       "      <td>North</td>\n",
       "      <td>Female</td>\n",
       "      <td>32</td>\n",
       "      <td>3</td>\n",
       "      <td>0</td>\n",
       "      <td>1</td>\n",
       "      <td>355621000</td>\n",
       "      <td>11</td>\n",
       "      <td>Single</td>\n",
       "      <td>0</td>\n",
       "    </tr>\n",
       "  </tbody>\n",
       "</table>\n",
       "<p>1000 rows × 12 columns</p>\n",
       "</div>"
      ],
      "text/plain": [
       "     CustomerId  CreditScore Geography  Gender  Age  Tenure     Balance  \\\n",
       "0      15771442          633     North    Male   40       4  3312716000   \n",
       "1      15700174          733     South  Female   30       1  1833024000   \n",
       "2      15747503          705     South    Male   44       1  4060147000   \n",
       "3      15599433          660       Mid    Male   35       8  1290111000   \n",
       "4      15763194          643     North    Male   34       7           0   \n",
       "..          ...          ...       ...     ...  ...     ...         ...   \n",
       "995    15595883          540       Mid    Male   39       4  2800123000   \n",
       "996    15790599          756       Mid  Female   39       5  3285989000   \n",
       "997    15665087          595       Mid  Female   26       8  2608050000   \n",
       "998    15660602          464       Mid    Male   33       8  3614264000   \n",
       "999    15622321          506     North  Female   32       3           0   \n",
       "\n",
       "     NumOfProducts  EstimatedSalary  SpendingScore   Family  Exited  \n",
       "0                1        152551000             45   Single       0  \n",
       "1                1        254184000             38   Single       0  \n",
       "2                1        302985000             39   Single       0  \n",
       "3                1        874166000             97   Single       0  \n",
       "4                2        441338000             21  Married       0  \n",
       "..             ...              ...            ...      ...     ...  \n",
       "995              1         71061000             85  Married       0  \n",
       "996              2        480033000             78  Married       0  \n",
       "997              1        665246000             93   Single       1  \n",
       "998              2         16325000             15   Single       0  \n",
       "999              1        355621000             11   Single       0  \n",
       "\n",
       "[1000 rows x 12 columns]"
      ]
     },
     "execution_count": 26,
     "metadata": {},
     "output_type": "execute_result"
    }
   ],
   "source": [
    "df_test"
   ]
  },
  {
   "cell_type": "code",
   "execution_count": 27,
   "metadata": {},
   "outputs": [
    {
     "data": {
      "text/html": [
       "<div>\n",
       "<style scoped>\n",
       "    .dataframe tbody tr th:only-of-type {\n",
       "        vertical-align: middle;\n",
       "    }\n",
       "\n",
       "    .dataframe tbody tr th {\n",
       "        vertical-align: top;\n",
       "    }\n",
       "\n",
       "    .dataframe thead th {\n",
       "        text-align: right;\n",
       "    }\n",
       "</style>\n",
       "<table border=\"1\" class=\"dataframe\">\n",
       "  <thead>\n",
       "    <tr style=\"text-align: right;\">\n",
       "      <th></th>\n",
       "      <th>CreditScore</th>\n",
       "      <th>Geography</th>\n",
       "      <th>Gender</th>\n",
       "      <th>Age</th>\n",
       "      <th>Tenure</th>\n",
       "      <th>Balance</th>\n",
       "      <th>NumOfProducts</th>\n",
       "      <th>EstimatedSalary</th>\n",
       "      <th>SpendingScore</th>\n",
       "      <th>Family</th>\n",
       "      <th>Exited</th>\n",
       "    </tr>\n",
       "  </thead>\n",
       "  <tbody>\n",
       "    <tr>\n",
       "      <th>0</th>\n",
       "      <td>633</td>\n",
       "      <td>North</td>\n",
       "      <td>Male</td>\n",
       "      <td>40</td>\n",
       "      <td>4</td>\n",
       "      <td>3312716000</td>\n",
       "      <td>1</td>\n",
       "      <td>152551000</td>\n",
       "      <td>45</td>\n",
       "      <td>Single</td>\n",
       "      <td>0</td>\n",
       "    </tr>\n",
       "    <tr>\n",
       "      <th>1</th>\n",
       "      <td>733</td>\n",
       "      <td>South</td>\n",
       "      <td>Female</td>\n",
       "      <td>30</td>\n",
       "      <td>1</td>\n",
       "      <td>1833024000</td>\n",
       "      <td>1</td>\n",
       "      <td>254184000</td>\n",
       "      <td>38</td>\n",
       "      <td>Single</td>\n",
       "      <td>0</td>\n",
       "    </tr>\n",
       "    <tr>\n",
       "      <th>2</th>\n",
       "      <td>705</td>\n",
       "      <td>South</td>\n",
       "      <td>Male</td>\n",
       "      <td>44</td>\n",
       "      <td>1</td>\n",
       "      <td>4060147000</td>\n",
       "      <td>1</td>\n",
       "      <td>302985000</td>\n",
       "      <td>39</td>\n",
       "      <td>Single</td>\n",
       "      <td>0</td>\n",
       "    </tr>\n",
       "    <tr>\n",
       "      <th>3</th>\n",
       "      <td>660</td>\n",
       "      <td>Mid</td>\n",
       "      <td>Male</td>\n",
       "      <td>35</td>\n",
       "      <td>8</td>\n",
       "      <td>1290111000</td>\n",
       "      <td>1</td>\n",
       "      <td>874166000</td>\n",
       "      <td>97</td>\n",
       "      <td>Single</td>\n",
       "      <td>0</td>\n",
       "    </tr>\n",
       "    <tr>\n",
       "      <th>4</th>\n",
       "      <td>643</td>\n",
       "      <td>North</td>\n",
       "      <td>Male</td>\n",
       "      <td>34</td>\n",
       "      <td>7</td>\n",
       "      <td>0</td>\n",
       "      <td>2</td>\n",
       "      <td>441338000</td>\n",
       "      <td>21</td>\n",
       "      <td>Married</td>\n",
       "      <td>0</td>\n",
       "    </tr>\n",
       "    <tr>\n",
       "      <th>...</th>\n",
       "      <td>...</td>\n",
       "      <td>...</td>\n",
       "      <td>...</td>\n",
       "      <td>...</td>\n",
       "      <td>...</td>\n",
       "      <td>...</td>\n",
       "      <td>...</td>\n",
       "      <td>...</td>\n",
       "      <td>...</td>\n",
       "      <td>...</td>\n",
       "      <td>...</td>\n",
       "    </tr>\n",
       "    <tr>\n",
       "      <th>995</th>\n",
       "      <td>540</td>\n",
       "      <td>Mid</td>\n",
       "      <td>Male</td>\n",
       "      <td>39</td>\n",
       "      <td>4</td>\n",
       "      <td>2800123000</td>\n",
       "      <td>1</td>\n",
       "      <td>71061000</td>\n",
       "      <td>85</td>\n",
       "      <td>Married</td>\n",
       "      <td>0</td>\n",
       "    </tr>\n",
       "    <tr>\n",
       "      <th>996</th>\n",
       "      <td>756</td>\n",
       "      <td>Mid</td>\n",
       "      <td>Female</td>\n",
       "      <td>39</td>\n",
       "      <td>5</td>\n",
       "      <td>3285989000</td>\n",
       "      <td>2</td>\n",
       "      <td>480033000</td>\n",
       "      <td>78</td>\n",
       "      <td>Married</td>\n",
       "      <td>0</td>\n",
       "    </tr>\n",
       "    <tr>\n",
       "      <th>997</th>\n",
       "      <td>595</td>\n",
       "      <td>Mid</td>\n",
       "      <td>Female</td>\n",
       "      <td>26</td>\n",
       "      <td>8</td>\n",
       "      <td>2608050000</td>\n",
       "      <td>1</td>\n",
       "      <td>665246000</td>\n",
       "      <td>93</td>\n",
       "      <td>Single</td>\n",
       "      <td>1</td>\n",
       "    </tr>\n",
       "    <tr>\n",
       "      <th>998</th>\n",
       "      <td>464</td>\n",
       "      <td>Mid</td>\n",
       "      <td>Male</td>\n",
       "      <td>33</td>\n",
       "      <td>8</td>\n",
       "      <td>3614264000</td>\n",
       "      <td>2</td>\n",
       "      <td>16325000</td>\n",
       "      <td>15</td>\n",
       "      <td>Single</td>\n",
       "      <td>0</td>\n",
       "    </tr>\n",
       "    <tr>\n",
       "      <th>999</th>\n",
       "      <td>506</td>\n",
       "      <td>North</td>\n",
       "      <td>Female</td>\n",
       "      <td>32</td>\n",
       "      <td>3</td>\n",
       "      <td>0</td>\n",
       "      <td>1</td>\n",
       "      <td>355621000</td>\n",
       "      <td>11</td>\n",
       "      <td>Single</td>\n",
       "      <td>0</td>\n",
       "    </tr>\n",
       "  </tbody>\n",
       "</table>\n",
       "<p>1000 rows × 11 columns</p>\n",
       "</div>"
      ],
      "text/plain": [
       "     CreditScore Geography  Gender  Age  Tenure     Balance  NumOfProducts  \\\n",
       "0            633     North    Male   40       4  3312716000              1   \n",
       "1            733     South  Female   30       1  1833024000              1   \n",
       "2            705     South    Male   44       1  4060147000              1   \n",
       "3            660       Mid    Male   35       8  1290111000              1   \n",
       "4            643     North    Male   34       7           0              2   \n",
       "..           ...       ...     ...  ...     ...         ...            ...   \n",
       "995          540       Mid    Male   39       4  2800123000              1   \n",
       "996          756       Mid  Female   39       5  3285989000              2   \n",
       "997          595       Mid  Female   26       8  2608050000              1   \n",
       "998          464       Mid    Male   33       8  3614264000              2   \n",
       "999          506     North  Female   32       3           0              1   \n",
       "\n",
       "     EstimatedSalary  SpendingScore   Family  Exited  \n",
       "0          152551000             45   Single       0  \n",
       "1          254184000             38   Single       0  \n",
       "2          302985000             39   Single       0  \n",
       "3          874166000             97   Single       0  \n",
       "4          441338000             21  Married       0  \n",
       "..               ...            ...      ...     ...  \n",
       "995         71061000             85  Married       0  \n",
       "996        480033000             78  Married       0  \n",
       "997        665246000             93   Single       1  \n",
       "998         16325000             15   Single       0  \n",
       "999        355621000             11   Single       0  \n",
       "\n",
       "[1000 rows x 11 columns]"
      ]
     },
     "execution_count": 27,
     "metadata": {},
     "output_type": "execute_result"
    }
   ],
   "source": [
    "df_test = df_test.drop('CustomerId',axis=1)\n",
    "df_test"
   ]
  },
  {
   "cell_type": "code",
   "execution_count": 28,
   "metadata": {},
   "outputs": [
    {
     "name": "stdout",
     "output_type": "stream",
     "text": [
      "<class 'pandas.core.frame.DataFrame'>\n",
      "RangeIndex: 1000 entries, 0 to 999\n",
      "Data columns (total 11 columns):\n",
      " #   Column           Non-Null Count  Dtype \n",
      "---  ------           --------------  ----- \n",
      " 0   CreditScore      1000 non-null   int64 \n",
      " 1   Geography        1000 non-null   object\n",
      " 2   Gender           1000 non-null   object\n",
      " 3   Age              1000 non-null   int64 \n",
      " 4   Tenure           1000 non-null   int64 \n",
      " 5   Balance          1000 non-null   int64 \n",
      " 6   NumOfProducts    1000 non-null   int64 \n",
      " 7   EstimatedSalary  1000 non-null   int64 \n",
      " 8   SpendingScore    1000 non-null   int64 \n",
      " 9   Family           1000 non-null   object\n",
      " 10  Exited           1000 non-null   int64 \n",
      "dtypes: int64(8), object(3)\n",
      "memory usage: 86.1+ KB\n"
     ]
    }
   ],
   "source": [
    "df_test.info()"
   ]
  },
  {
   "cell_type": "code",
   "execution_count": 29,
   "metadata": {},
   "outputs": [
    {
     "data": {
      "text/html": [
       "<div>\n",
       "<style scoped>\n",
       "    .dataframe tbody tr th:only-of-type {\n",
       "        vertical-align: middle;\n",
       "    }\n",
       "\n",
       "    .dataframe tbody tr th {\n",
       "        vertical-align: top;\n",
       "    }\n",
       "\n",
       "    .dataframe thead th {\n",
       "        text-align: right;\n",
       "    }\n",
       "</style>\n",
       "<table border=\"1\" class=\"dataframe\">\n",
       "  <thead>\n",
       "    <tr style=\"text-align: right;\">\n",
       "      <th></th>\n",
       "      <th>CreditScore</th>\n",
       "      <th>Age</th>\n",
       "      <th>Tenure</th>\n",
       "      <th>Balance</th>\n",
       "      <th>NumOfProducts</th>\n",
       "      <th>EstimatedSalary</th>\n",
       "      <th>SpendingScore</th>\n",
       "      <th>Exited</th>\n",
       "    </tr>\n",
       "  </thead>\n",
       "  <tbody>\n",
       "    <tr>\n",
       "      <th>count</th>\n",
       "      <td>1000.000000</td>\n",
       "      <td>1000.000000</td>\n",
       "      <td>1000.000000</td>\n",
       "      <td>1.000000e+03</td>\n",
       "      <td>1000.00000</td>\n",
       "      <td>1.000000e+03</td>\n",
       "      <td>1000.000000</td>\n",
       "      <td>1000.000000</td>\n",
       "    </tr>\n",
       "    <tr>\n",
       "      <th>mean</th>\n",
       "      <td>652.623000</td>\n",
       "      <td>39.136000</td>\n",
       "      <td>4.863000</td>\n",
       "      <td>1.720227e+09</td>\n",
       "      <td>1.54200</td>\n",
       "      <td>4.457210e+08</td>\n",
       "      <td>50.143000</td>\n",
       "      <td>0.116000</td>\n",
       "    </tr>\n",
       "    <tr>\n",
       "      <th>std</th>\n",
       "      <td>94.025942</td>\n",
       "      <td>10.551248</td>\n",
       "      <td>2.752782</td>\n",
       "      <td>1.367224e+09</td>\n",
       "      <td>0.58701</td>\n",
       "      <td>2.504932e+08</td>\n",
       "      <td>29.196215</td>\n",
       "      <td>0.320385</td>\n",
       "    </tr>\n",
       "    <tr>\n",
       "      <th>min</th>\n",
       "      <td>363.000000</td>\n",
       "      <td>18.000000</td>\n",
       "      <td>1.000000</td>\n",
       "      <td>0.000000e+00</td>\n",
       "      <td>1.00000</td>\n",
       "      <td>9.520000e+05</td>\n",
       "      <td>1.000000</td>\n",
       "      <td>0.000000</td>\n",
       "    </tr>\n",
       "    <tr>\n",
       "      <th>25%</th>\n",
       "      <td>591.000000</td>\n",
       "      <td>32.000000</td>\n",
       "      <td>2.000000</td>\n",
       "      <td>0.000000e+00</td>\n",
       "      <td>1.00000</td>\n",
       "      <td>2.305005e+08</td>\n",
       "      <td>24.000000</td>\n",
       "      <td>0.000000</td>\n",
       "    </tr>\n",
       "    <tr>\n",
       "      <th>50%</th>\n",
       "      <td>656.000000</td>\n",
       "      <td>38.000000</td>\n",
       "      <td>5.000000</td>\n",
       "      <td>2.130871e+09</td>\n",
       "      <td>1.50000</td>\n",
       "      <td>4.474930e+08</td>\n",
       "      <td>50.500000</td>\n",
       "      <td>0.000000</td>\n",
       "    </tr>\n",
       "    <tr>\n",
       "      <th>75%</th>\n",
       "      <td>717.000000</td>\n",
       "      <td>44.000000</td>\n",
       "      <td>7.000000</td>\n",
       "      <td>2.827264e+09</td>\n",
       "      <td>2.00000</td>\n",
       "      <td>6.597908e+08</td>\n",
       "      <td>75.000000</td>\n",
       "      <td>0.000000</td>\n",
       "    </tr>\n",
       "    <tr>\n",
       "      <th>max</th>\n",
       "      <td>850.000000</td>\n",
       "      <td>78.000000</td>\n",
       "      <td>10.000000</td>\n",
       "      <td>4.873722e+09</td>\n",
       "      <td>4.00000</td>\n",
       "      <td>8.778240e+08</td>\n",
       "      <td>100.000000</td>\n",
       "      <td>1.000000</td>\n",
       "    </tr>\n",
       "  </tbody>\n",
       "</table>\n",
       "</div>"
      ],
      "text/plain": [
       "       CreditScore          Age       Tenure       Balance  NumOfProducts  \\\n",
       "count  1000.000000  1000.000000  1000.000000  1.000000e+03     1000.00000   \n",
       "mean    652.623000    39.136000     4.863000  1.720227e+09        1.54200   \n",
       "std      94.025942    10.551248     2.752782  1.367224e+09        0.58701   \n",
       "min     363.000000    18.000000     1.000000  0.000000e+00        1.00000   \n",
       "25%     591.000000    32.000000     2.000000  0.000000e+00        1.00000   \n",
       "50%     656.000000    38.000000     5.000000  2.130871e+09        1.50000   \n",
       "75%     717.000000    44.000000     7.000000  2.827264e+09        2.00000   \n",
       "max     850.000000    78.000000    10.000000  4.873722e+09        4.00000   \n",
       "\n",
       "       EstimatedSalary  SpendingScore       Exited  \n",
       "count     1.000000e+03    1000.000000  1000.000000  \n",
       "mean      4.457210e+08      50.143000     0.116000  \n",
       "std       2.504932e+08      29.196215     0.320385  \n",
       "min       9.520000e+05       1.000000     0.000000  \n",
       "25%       2.305005e+08      24.000000     0.000000  \n",
       "50%       4.474930e+08      50.500000     0.000000  \n",
       "75%       6.597908e+08      75.000000     0.000000  \n",
       "max       8.778240e+08     100.000000     1.000000  "
      ]
     },
     "execution_count": 29,
     "metadata": {},
     "output_type": "execute_result"
    }
   ],
   "source": [
    "df_test.describe()"
   ]
  },
  {
   "cell_type": "code",
   "execution_count": 30,
   "metadata": {},
   "outputs": [],
   "source": [
    "df_test = pd.get_dummies(df_test,columns=cat,drop_first=True)"
   ]
  },
  {
   "cell_type": "code",
   "execution_count": 31,
   "metadata": {},
   "outputs": [],
   "source": [
    "X_sample = df_test.drop(['Exited'],axis=1)\n",
    "y_sample=df_test['Exited']"
   ]
  },
  {
   "cell_type": "code",
   "execution_count": 32,
   "metadata": {},
   "outputs": [
    {
     "name": "stderr",
     "output_type": "stream",
     "text": [
      "C:\\Users\\Khang Lam\\AppData\\Roaming\\Python\\Python38\\site-packages\\sklearn\\utils\\deprecation.py:87: FutureWarning: Function plot_confusion_matrix is deprecated; Function `plot_confusion_matrix` is deprecated in 1.0 and will be removed in 1.2. Use one of the class methods: ConfusionMatrixDisplay.from_predictions or ConfusionMatrixDisplay.from_estimator.\n",
      "  warnings.warn(msg, category=FutureWarning)\n",
      "C:\\Users\\Khang Lam\\AppData\\Roaming\\Python\\Python38\\site-packages\\sklearn\\metrics\\_classification.py:1327: UndefinedMetricWarning: Precision and F-score are ill-defined and being set to 0.0 in labels with no predicted samples. Use `zero_division` parameter to control this behavior.\n",
      "  _warn_prf(average, modifier, msg_start, len(result))\n",
      "C:\\Users\\Khang Lam\\AppData\\Roaming\\Python\\Python38\\site-packages\\sklearn\\metrics\\_classification.py:1327: UndefinedMetricWarning: Precision and F-score are ill-defined and being set to 0.0 in labels with no predicted samples. Use `zero_division` parameter to control this behavior.\n",
      "  _warn_prf(average, modifier, msg_start, len(result))\n",
      "C:\\Users\\Khang Lam\\AppData\\Roaming\\Python\\Python38\\site-packages\\sklearn\\metrics\\_classification.py:1327: UndefinedMetricWarning: Precision and F-score are ill-defined and being set to 0.0 in labels with no predicted samples. Use `zero_division` parameter to control this behavior.\n",
      "  _warn_prf(average, modifier, msg_start, len(result))\n"
     ]
    },
    {
     "name": "stdout",
     "output_type": "stream",
     "text": [
      "              precision    recall  f1-score   support\n",
      "\n",
      "           0       0.88      1.00      0.94       884\n",
      "           1       0.00      0.00      0.00       116\n",
      "\n",
      "    accuracy                           0.88      1000\n",
      "   macro avg       0.44      0.50      0.47      1000\n",
      "weighted avg       0.78      0.88      0.83      1000\n",
      "\n",
      "Random Forest Accuracy: 88.0%\n"
     ]
    },
    {
     "data": {
      "image/png": "[encoded data removed]",
      "text/plain": [
       "<Figure size 432x288 with 2 Axes>"
      ]
     },
     "metadata": {
      "needs_background": "light"
     },
     "output_type": "display_data"
    }
   ],
   "source": [
    "y_pred = grid_rf.predict(X_sample)\n",
    "cm = confusion_matrix(y_sample, y_pred)\n",
    "plot_confusion_matrix(grid_rf, X_sample, y_sample,cmap='Greens')\n",
    "print(classification_report(y_sample, y_pred))\n",
    "print(f'Random Forest Accuracy: {100*round(accuracy_score(y_sample, y_pred),2)}%')"
   ]
  },
  {
   "cell_type": "code",
   "execution_count": 33,
   "metadata": {},
   "outputs": [
    {
     "name": "stderr",
     "output_type": "stream",
     "text": [
      "C:\\Users\\Khang Lam\\AppData\\Roaming\\Python\\Python38\\site-packages\\sklearn\\base.py:443: UserWarning: X has feature names, but LogisticRegression was fitted without feature names\n",
      "  warnings.warn(\n",
      "C:\\Users\\Khang Lam\\AppData\\Roaming\\Python\\Python38\\site-packages\\sklearn\\utils\\deprecation.py:87: FutureWarning: Function plot_confusion_matrix is deprecated; Function `plot_confusion_matrix` is deprecated in 1.0 and will be removed in 1.2. Use one of the class methods: ConfusionMatrixDisplay.from_predictions or ConfusionMatrixDisplay.from_estimator.\n",
      "  warnings.warn(msg, category=FutureWarning)\n",
      "C:\\Users\\Khang Lam\\AppData\\Roaming\\Python\\Python38\\site-packages\\sklearn\\base.py:443: UserWarning: X has feature names, but LogisticRegression was fitted without feature names\n",
      "  warnings.warn(\n",
      "C:\\Users\\Khang Lam\\AppData\\Roaming\\Python\\Python38\\site-packages\\sklearn\\metrics\\_classification.py:1327: UndefinedMetricWarning: Precision and F-score are ill-defined and being set to 0.0 in labels with no predicted samples. Use `zero_division` parameter to control this behavior.\n",
      "  _warn_prf(average, modifier, msg_start, len(result))\n",
      "C:\\Users\\Khang Lam\\AppData\\Roaming\\Python\\Python38\\site-packages\\sklearn\\metrics\\_classification.py:1327: UndefinedMetricWarning: Precision and F-score are ill-defined and being set to 0.0 in labels with no predicted samples. Use `zero_division` parameter to control this behavior.\n",
      "  _warn_prf(average, modifier, msg_start, len(result))\n",
      "C:\\Users\\Khang Lam\\AppData\\Roaming\\Python\\Python38\\site-packages\\sklearn\\metrics\\_classification.py:1327: UndefinedMetricWarning: Precision and F-score are ill-defined and being set to 0.0 in labels with no predicted samples. Use `zero_division` parameter to control this behavior.\n",
      "  _warn_prf(average, modifier, msg_start, len(result))\n"
     ]
    },
    {
     "name": "stdout",
     "output_type": "stream",
     "text": [
      "              precision    recall  f1-score   support\n",
      "\n",
      "           0       0.88      1.00      0.94       884\n",
      "           1       0.00      0.00      0.00       116\n",
      "\n",
      "    accuracy                           0.88      1000\n",
      "   macro avg       0.44      0.50      0.47      1000\n",
      "weighted avg       0.78      0.88      0.83      1000\n",
      "\n",
      "Logistic Regression Accuracy: 88.0%\n"
     ]
    },
    {
     "data": {
      "image/png": "[encoded data removed]",
      "text/plain": [
       "<Figure size 432x288 with 2 Axes>"
      ]
     },
     "metadata": {
      "needs_background": "light"
     },
     "output_type": "display_data"
    }
   ],
   "source": [
    "y_pred = model_lg.predict(X_sample)\n",
    "cm = confusion_matrix(y_sample, y_pred)\n",
    "plot_confusion_matrix(model_lg, X_sample, y_sample,cmap='Greens')\n",
    "print(classification_report(y_sample, y_pred))\n",
    "print(f'Logistic Regression Accuracy: {100*round(accuracy_score(y_sample, y_pred),2)}%')"
   ]
  },
  {
   "cell_type": "code",
   "execution_count": 34,
   "metadata": {},
   "outputs": [
    {
     "name": "stderr",
     "output_type": "stream",
     "text": [
      "C:\\Users\\Khang Lam\\AppData\\Roaming\\Python\\Python38\\site-packages\\sklearn\\base.py:443: UserWarning: X has feature names, but KNeighborsClassifier was fitted without feature names\n",
      "  warnings.warn(\n",
      "C:\\Users\\Khang Lam\\AppData\\Roaming\\Python\\Python38\\site-packages\\sklearn\\utils\\deprecation.py:87: FutureWarning: Function plot_confusion_matrix is deprecated; Function `plot_confusion_matrix` is deprecated in 1.0 and will be removed in 1.2. Use one of the class methods: ConfusionMatrixDisplay.from_predictions or ConfusionMatrixDisplay.from_estimator.\n",
      "  warnings.warn(msg, category=FutureWarning)\n",
      "C:\\Users\\Khang Lam\\AppData\\Roaming\\Python\\Python38\\site-packages\\sklearn\\base.py:443: UserWarning: X has feature names, but KNeighborsClassifier was fitted without feature names\n",
      "  warnings.warn(\n",
      "C:\\Users\\Khang Lam\\AppData\\Roaming\\Python\\Python38\\site-packages\\sklearn\\metrics\\_classification.py:1327: UndefinedMetricWarning: Precision and F-score are ill-defined and being set to 0.0 in labels with no predicted samples. Use `zero_division` parameter to control this behavior.\n",
      "  _warn_prf(average, modifier, msg_start, len(result))\n",
      "C:\\Users\\Khang Lam\\AppData\\Roaming\\Python\\Python38\\site-packages\\sklearn\\metrics\\_classification.py:1327: UndefinedMetricWarning: Precision and F-score are ill-defined and being set to 0.0 in labels with no predicted samples. Use `zero_division` parameter to control this behavior.\n",
      "  _warn_prf(average, modifier, msg_start, len(result))\n",
      "C:\\Users\\Khang Lam\\AppData\\Roaming\\Python\\Python38\\site-packages\\sklearn\\metrics\\_classification.py:1327: UndefinedMetricWarning: Precision and F-score are ill-defined and being set to 0.0 in labels with no predicted samples. Use `zero_division` parameter to control this behavior.\n",
      "  _warn_prf(average, modifier, msg_start, len(result))\n"
     ]
    },
    {
     "name": "stdout",
     "output_type": "stream",
     "text": [
      "              precision    recall  f1-score   support\n",
      "\n",
      "           0       0.88      1.00      0.94       884\n",
      "           1       0.00      0.00      0.00       116\n",
      "\n",
      "    accuracy                           0.88      1000\n",
      "   macro avg       0.44      0.50      0.47      1000\n",
      "weighted avg       0.78      0.88      0.83      1000\n",
      "\n",
      "KNN Accuracy: 88.0%\n"
     ]
    },
    {
     "data": {
      "image/png": "[encoded data removed]",
      "text/plain": [
       "<Figure size 432x288 with 2 Axes>"
      ]
     },
     "metadata": {
      "needs_background": "light"
     },
     "output_type": "display_data"
    }
   ],
   "source": [
    "y_pred = grid_knn.predict(X_sample)\n",
    "cm = confusion_matrix(y_sample, y_pred)\n",
    "plot_confusion_matrix(grid_knn, X_sample, y_sample,cmap='Greens')\n",
    "print(classification_report(y_sample, y_pred))\n",
    "print(f'KNN Accuracy: {100*round(accuracy_score(y_sample, y_pred),2)}%')"
   ]
  },
  {
   "cell_type": "markdown",
   "metadata": {},
   "source": [
    "When models make predictions on test sample data, they also encounter the same situation. Exited customers can not be realized! The training data is horribly imbalance! We need to improve the recall (class 1) because  high recall means that we can predict almost case of customers that close the bank account."
   ]
  },
  {
   "cell_type": "markdown",
   "metadata": {},
   "source": [
    "***Solution***"
   ]
  },
  {
   "cell_type": "markdown",
   "metadata": {},
   "source": [
    "I will resample the dataset for training model by increasing numbers of exited customers. This can help the training dataset is more balance and can improve the performance of the models."
   ]
  },
  {
   "cell_type": "code",
   "execution_count": 35,
   "metadata": {},
   "outputs": [],
   "source": [
    "df_major = df_final[df_final.Exited==0]\n",
    "df_minor = df_final[df_final.Exited==1]"
   ]
  },
  {
   "cell_type": "code",
   "execution_count": 36,
   "metadata": {},
   "outputs": [],
   "source": [
    "from sklearn.utils import resample\n",
    "\n",
    "df_minor_upsampled = resample(df_minor, \n",
    "                                 replace=True,                      \n",
    "                                 n_samples= df_major.shape[0],\n",
    "                                 random_state=0)"
   ]
  },
  {
   "cell_type": "code",
   "execution_count": 37,
   "metadata": {},
   "outputs": [],
   "source": [
    "df_up = pd.concat([df_minor_upsampled, df_major])"
   ]
  },
  {
   "cell_type": "markdown",
   "metadata": {},
   "source": [
    "So let's retrain the models."
   ]
  },
  {
   "cell_type": "code",
   "execution_count": 38,
   "metadata": {},
   "outputs": [],
   "source": [
    "X_up=df_up.drop(['Exited'],axis=1)\n",
    "y_up=df_up['Exited']"
   ]
  },
  {
   "cell_type": "code",
   "execution_count": 39,
   "metadata": {},
   "outputs": [],
   "source": [
    "X_train_up, X_test_up, y_train_up, y_test_up=train_test_split(X_up,y_up,test_size=0.2, random_state=0)"
   ]
  },
  {
   "cell_type": "code",
   "execution_count": 40,
   "metadata": {},
   "outputs": [
    {
     "name": "stdout",
     "output_type": "stream",
     "text": [
      "Random Forest tuned hyperparameters :(best parameters)  {'n_estimators': 200}\n"
     ]
    }
   ],
   "source": [
    "from sklearn.ensemble import RandomForestClassifier\n",
    "from sklearn.model_selection import GridSearchCV\n",
    "rf = RandomForestClassifier(random_state = 0) \n",
    "n_range = [10,20,50,100,150,200]\n",
    "param_grid = dict(n_estimators=n_range)\n",
    "grid_rf_up = GridSearchCV(rf, param_grid, cv=5, scoring='accuracy')\n",
    "grid_rf_up.fit(X_train_up,y_train_up)\n",
    "print(\"Random Forest tuned hyperparameters :(best parameters) \",grid_rf.best_params_)"
   ]
  },
  {
   "cell_type": "code",
   "execution_count": 41,
   "metadata": {},
   "outputs": [
    {
     "name": "stderr",
     "output_type": "stream",
     "text": [
      "C:\\Users\\Khang Lam\\AppData\\Roaming\\Python\\Python38\\site-packages\\sklearn\\utils\\deprecation.py:87: FutureWarning: Function plot_confusion_matrix is deprecated; Function `plot_confusion_matrix` is deprecated in 1.0 and will be removed in 1.2. Use one of the class methods: ConfusionMatrixDisplay.from_predictions or ConfusionMatrixDisplay.from_estimator.\n",
      "  warnings.warn(msg, category=FutureWarning)\n"
     ]
    },
    {
     "name": "stdout",
     "output_type": "stream",
     "text": [
      "              precision    recall  f1-score   support\n",
      "\n",
      "           0       1.00      0.99      1.00      1632\n",
      "           1       0.99      1.00      1.00      1573\n",
      "\n",
      "    accuracy                           1.00      3205\n",
      "   macro avg       1.00      1.00      1.00      3205\n",
      "weighted avg       1.00      1.00      1.00      3205\n",
      "\n",
      "Random Forest Accuracy: 100.0%\n"
     ]
    },
    {
     "data": {
      "image/png": "[encoded data removed]",
      "text/plain": [
       "<Figure size 432x288 with 2 Axes>"
      ]
     },
     "metadata": {
      "needs_background": "light"
     },
     "output_type": "display_data"
    }
   ],
   "source": [
    "y_pred = grid_rf_up.predict(X_test_up)\n",
    "cm = confusion_matrix(y_test_up, y_pred)\n",
    "plot_confusion_matrix(grid_rf_up, X_test_up, y_test_up,cmap='Greens')\n",
    "print(classification_report(y_test_up, y_pred))\n",
    "print(f'Random Forest Accuracy: {100*round(accuracy_score(y_test_up, y_pred),2)}%')"
   ]
  },
  {
   "cell_type": "code",
   "execution_count": 42,
   "metadata": {},
   "outputs": [],
   "source": [
    "from sklearn.preprocessing import StandardScaler\n",
    "sc = StandardScaler()\n",
    "X_train_up = sc.fit_transform(X_train_up)\n",
    "X_test_up = sc.transform(X_test_up)"
   ]
  },
  {
   "cell_type": "code",
   "execution_count": 43,
   "metadata": {},
   "outputs": [
    {
     "name": "stderr",
     "output_type": "stream",
     "text": [
      "C:\\Users\\Khang Lam\\AppData\\Roaming\\Python\\Python38\\site-packages\\sklearn\\utils\\deprecation.py:87: FutureWarning: Function plot_confusion_matrix is deprecated; Function `plot_confusion_matrix` is deprecated in 1.0 and will be removed in 1.2. Use one of the class methods: ConfusionMatrixDisplay.from_predictions or ConfusionMatrixDisplay.from_estimator.\n",
      "  warnings.warn(msg, category=FutureWarning)\n"
     ]
    },
    {
     "name": "stdout",
     "output_type": "stream",
     "text": [
      "              precision    recall  f1-score   support\n",
      "\n",
      "           0       0.54      0.55      0.54      1632\n",
      "           1       0.52      0.51      0.51      1573\n",
      "\n",
      "    accuracy                           0.53      3205\n",
      "   macro avg       0.53      0.53      0.53      3205\n",
      "weighted avg       0.53      0.53      0.53      3205\n",
      "\n",
      "Logistic Accuracy: 53.0%\n"
     ]
    },
    {
     "data": {
      "image/png": "[encoded data removed]",
      "text/plain": [
       "<Figure size 432x288 with 2 Axes>"
      ]
     },
     "metadata": {
      "needs_background": "light"
     },
     "output_type": "display_data"
    }
   ],
   "source": [
    "from sklearn.linear_model import LogisticRegression\n",
    "classifier = LogisticRegression(random_state = 0)\n",
    "model_lg = classifier.fit(X_train_up, y_train_up)\n",
    "y_pred = classifier.predict(X_test_up)\n",
    "cm = confusion_matrix(y_test_up, y_pred)\n",
    "plot_confusion_matrix(model_lg, X_test_up, y_test_up,cmap='Greens')\n",
    "print(classification_report(y_test_up, y_pred))\n",
    "print(f'Logistic Accuracy: {100*round(accuracy_score(y_test_up, y_pred),2)}%')"
   ]
  },
  {
   "cell_type": "code",
   "execution_count": 44,
   "metadata": {},
   "outputs": [
    {
     "name": "stdout",
     "output_type": "stream",
     "text": [
      "Tuned hyperparameters :(best parameters)  {'n_neighbors': 10}\n"
     ]
    }
   ],
   "source": [
    "from sklearn.neighbors import KNeighborsClassifier\n",
    "from sklearn.model_selection import GridSearchCV\n",
    "knn = KNeighborsClassifier() \n",
    "k_range = list(range(1, 31))\n",
    "param_grid = dict(n_neighbors=k_range)\n",
    "grid_knn_up = GridSearchCV(knn, param_grid, cv=5, scoring='accuracy')\n",
    "grid_knn_up.fit(X_train_up,y_train_up)\n",
    "print(\"Tuned hyperparameters :(best parameters) \",grid_knn.best_params_)"
   ]
  },
  {
   "cell_type": "code",
   "execution_count": 45,
   "metadata": {},
   "outputs": [
    {
     "name": "stderr",
     "output_type": "stream",
     "text": [
      "C:\\Users\\Khang Lam\\AppData\\Roaming\\Python\\Python38\\site-packages\\sklearn\\utils\\deprecation.py:87: FutureWarning: Function plot_confusion_matrix is deprecated; Function `plot_confusion_matrix` is deprecated in 1.0 and will be removed in 1.2. Use one of the class methods: ConfusionMatrixDisplay.from_predictions or ConfusionMatrixDisplay.from_estimator.\n",
      "  warnings.warn(msg, category=FutureWarning)\n"
     ]
    },
    {
     "name": "stdout",
     "output_type": "stream",
     "text": [
      "              precision    recall  f1-score   support\n",
      "\n",
      "           0       1.00      0.86      0.92      1632\n",
      "           1       0.87      1.00      0.93      1573\n",
      "\n",
      "    accuracy                           0.93      3205\n",
      "   macro avg       0.94      0.93      0.93      3205\n",
      "weighted avg       0.94      0.93      0.93      3205\n",
      "\n",
      "KNN Accuracy: 93.0%\n"
     ]
    },
    {
     "data": {
      "image/png": "[encoded data removed]",
      "text/plain": [
       "<Figure size 432x288 with 2 Axes>"
      ]
     },
     "metadata": {
      "needs_background": "light"
     },
     "output_type": "display_data"
    }
   ],
   "source": [
    "y_pred = grid_knn_up.predict(X_test_up)\n",
    "cm = confusion_matrix(y_test_up, y_pred)\n",
    "plot_confusion_matrix(grid_knn_up, X_test_up, y_test_up,cmap='Greens')\n",
    "print(classification_report(y_test_up, y_pred))\n",
    "print(f'KNN Accuracy: {100*round(accuracy_score(y_test_up, y_pred),2)}%')"
   ]
  },
  {
   "cell_type": "markdown",
   "metadata": {},
   "source": [
    "In this case, Random Forest and KNN models perform really well with 100% (!) and 93% accuracy respectively, Logistic Regression's accuracy rate is decrease. But all the model can increase the recall (class 1)."
   ]
  },
  {
   "cell_type": "markdown",
   "metadata": {},
   "source": [
    "***Now try again with the test sample data***"
   ]
  },
  {
   "cell_type": "code",
   "execution_count": 46,
   "metadata": {},
   "outputs": [
    {
     "name": "stderr",
     "output_type": "stream",
     "text": [
      "C:\\Users\\Khang Lam\\AppData\\Roaming\\Python\\Python38\\site-packages\\sklearn\\utils\\deprecation.py:87: FutureWarning: Function plot_confusion_matrix is deprecated; Function `plot_confusion_matrix` is deprecated in 1.0 and will be removed in 1.2. Use one of the class methods: ConfusionMatrixDisplay.from_predictions or ConfusionMatrixDisplay.from_estimator.\n",
      "  warnings.warn(msg, category=FutureWarning)\n"
     ]
    },
    {
     "name": "stdout",
     "output_type": "stream",
     "text": [
      "              precision    recall  f1-score   support\n",
      "\n",
      "           0       0.89      1.00      0.94       884\n",
      "           1       0.40      0.02      0.03       116\n",
      "\n",
      "    accuracy                           0.88      1000\n",
      "   macro avg       0.64      0.51      0.49      1000\n",
      "weighted avg       0.83      0.88      0.83      1000\n",
      "\n",
      "Random Forest Accuracy: 88.0%\n"
     ]
    },
    {
     "data": {
      "image/png": "[encoded data removed]",
      "text/plain": [
       "<Figure size 432x288 with 2 Axes>"
      ]
     },
     "metadata": {
      "needs_background": "light"
     },
     "output_type": "display_data"
    }
   ],
   "source": [
    "y_pred = grid_rf_up.predict(X_sample)\n",
    "cm = confusion_matrix(y_sample, y_pred)\n",
    "plot_confusion_matrix(grid_rf_up, X_sample, y_sample,cmap='Greens')\n",
    "print(classification_report(y_sample, y_pred))\n",
    "print(f'Random Forest Accuracy: {100*round(accuracy_score(y_sample, y_pred),2)}%')"
   ]
  },
  {
   "cell_type": "code",
   "execution_count": 47,
   "metadata": {},
   "outputs": [
    {
     "name": "stderr",
     "output_type": "stream",
     "text": [
      "C:\\Users\\Khang Lam\\AppData\\Roaming\\Python\\Python38\\site-packages\\sklearn\\base.py:443: UserWarning: X has feature names, but LogisticRegression was fitted without feature names\n",
      "  warnings.warn(\n",
      "C:\\Users\\Khang Lam\\AppData\\Roaming\\Python\\Python38\\site-packages\\sklearn\\utils\\deprecation.py:87: FutureWarning: Function plot_confusion_matrix is deprecated; Function `plot_confusion_matrix` is deprecated in 1.0 and will be removed in 1.2. Use one of the class methods: ConfusionMatrixDisplay.from_predictions or ConfusionMatrixDisplay.from_estimator.\n",
      "  warnings.warn(msg, category=FutureWarning)\n",
      "C:\\Users\\Khang Lam\\AppData\\Roaming\\Python\\Python38\\site-packages\\sklearn\\base.py:443: UserWarning: X has feature names, but LogisticRegression was fitted without feature names\n",
      "  warnings.warn(\n",
      "C:\\Users\\Khang Lam\\AppData\\Roaming\\Python\\Python38\\site-packages\\sklearn\\metrics\\_classification.py:1327: UndefinedMetricWarning: Precision and F-score are ill-defined and being set to 0.0 in labels with no predicted samples. Use `zero_division` parameter to control this behavior.\n",
      "  _warn_prf(average, modifier, msg_start, len(result))\n",
      "C:\\Users\\Khang Lam\\AppData\\Roaming\\Python\\Python38\\site-packages\\sklearn\\metrics\\_classification.py:1327: UndefinedMetricWarning: Precision and F-score are ill-defined and being set to 0.0 in labels with no predicted samples. Use `zero_division` parameter to control this behavior.\n",
      "  _warn_prf(average, modifier, msg_start, len(result))\n",
      "C:\\Users\\Khang Lam\\AppData\\Roaming\\Python\\Python38\\site-packages\\sklearn\\metrics\\_classification.py:1327: UndefinedMetricWarning: Precision and F-score are ill-defined and being set to 0.0 in labels with no predicted samples. Use `zero_division` parameter to control this behavior.\n",
      "  _warn_prf(average, modifier, msg_start, len(result))\n"
     ]
    },
    {
     "name": "stdout",
     "output_type": "stream",
     "text": [
      "              precision    recall  f1-score   support\n",
      "\n",
      "           0       0.88      1.00      0.94       884\n",
      "           1       0.00      0.00      0.00       116\n",
      "\n",
      "    accuracy                           0.88      1000\n",
      "   macro avg       0.44      0.50      0.47      1000\n",
      "weighted avg       0.78      0.88      0.83      1000\n",
      "\n",
      "Logistic Regression Accuracy: 88.0%\n"
     ]
    },
    {
     "data": {
      "image/png": "[encoded data removed]",
      "text/plain": [
       "<Figure size 432x288 with 2 Axes>"
      ]
     },
     "metadata": {
      "needs_background": "light"
     },
     "output_type": "display_data"
    }
   ],
   "source": [
    "y_pred = model_lg.predict(X_sample)\n",
    "cm = confusion_matrix(y_sample, y_pred)\n",
    "plot_confusion_matrix(model_lg, X_sample, y_sample,cmap='Greens')\n",
    "print(classification_report(y_sample, y_pred))\n",
    "print(f'Logistic Regression Accuracy: {100*round(accuracy_score(y_sample, y_pred),2)}%')"
   ]
  },
  {
   "cell_type": "code",
   "execution_count": 48,
   "metadata": {},
   "outputs": [
    {
     "name": "stderr",
     "output_type": "stream",
     "text": [
      "C:\\Users\\Khang Lam\\AppData\\Roaming\\Python\\Python38\\site-packages\\sklearn\\base.py:443: UserWarning: X has feature names, but KNeighborsClassifier was fitted without feature names\n",
      "  warnings.warn(\n",
      "C:\\Users\\Khang Lam\\AppData\\Roaming\\Python\\Python38\\site-packages\\sklearn\\utils\\deprecation.py:87: FutureWarning: Function plot_confusion_matrix is deprecated; Function `plot_confusion_matrix` is deprecated in 1.0 and will be removed in 1.2. Use one of the class methods: ConfusionMatrixDisplay.from_predictions or ConfusionMatrixDisplay.from_estimator.\n",
      "  warnings.warn(msg, category=FutureWarning)\n",
      "C:\\Users\\Khang Lam\\AppData\\Roaming\\Python\\Python38\\site-packages\\sklearn\\base.py:443: UserWarning: X has feature names, but KNeighborsClassifier was fitted without feature names\n",
      "  warnings.warn(\n",
      "C:\\Users\\Khang Lam\\AppData\\Roaming\\Python\\Python38\\site-packages\\sklearn\\metrics\\_classification.py:1327: UndefinedMetricWarning: Precision and F-score are ill-defined and being set to 0.0 in labels with no predicted samples. Use `zero_division` parameter to control this behavior.\n",
      "  _warn_prf(average, modifier, msg_start, len(result))\n",
      "C:\\Users\\Khang Lam\\AppData\\Roaming\\Python\\Python38\\site-packages\\sklearn\\metrics\\_classification.py:1327: UndefinedMetricWarning: Precision and F-score are ill-defined and being set to 0.0 in labels with no predicted samples. Use `zero_division` parameter to control this behavior.\n",
      "  _warn_prf(average, modifier, msg_start, len(result))\n",
      "C:\\Users\\Khang Lam\\AppData\\Roaming\\Python\\Python38\\site-packages\\sklearn\\metrics\\_classification.py:1327: UndefinedMetricWarning: Precision and F-score are ill-defined and being set to 0.0 in labels with no predicted samples. Use `zero_division` parameter to control this behavior.\n",
      "  _warn_prf(average, modifier, msg_start, len(result))\n"
     ]
    },
    {
     "name": "stdout",
     "output_type": "stream",
     "text": [
      "              precision    recall  f1-score   support\n",
      "\n",
      "           0       0.88      1.00      0.94       884\n",
      "           1       0.00      0.00      0.00       116\n",
      "\n",
      "    accuracy                           0.88      1000\n",
      "   macro avg       0.44      0.50      0.47      1000\n",
      "weighted avg       0.78      0.88      0.83      1000\n",
      "\n",
      "KNN Accuracy: 88.0%\n"
     ]
    },
    {
     "data": {
      "image/png": "[encoded data removed]",
      "text/plain": [
       "<Figure size 432x288 with 2 Axes>"
      ]
     },
     "metadata": {
      "needs_background": "light"
     },
     "output_type": "display_data"
    }
   ],
   "source": [
    "y_pred = grid_knn_up.predict(X_sample)\n",
    "cm = confusion_matrix(y_sample, y_pred)\n",
    "plot_confusion_matrix(grid_knn_up, X_sample, y_sample,cmap='Greens')\n",
    "print(classification_report(y_sample, y_pred))\n",
    "print(f'KNN Accuracy: {100*round(accuracy_score(y_sample, y_pred),2)}%')"
   ]
  },
  {
   "cell_type": "markdown",
   "metadata": {},
   "source": [
    "The old problem repeated on the test sample data!!! Customers leaving the bank still can not be realized by the model!!! The accuracy rate almost unchanged."
   ]
  },
  {
   "cell_type": "markdown",
   "metadata": {},
   "source": [
    "# Conclusion"
   ]
  },
  {
   "cell_type": "markdown",
   "metadata": {},
   "source": [
    "After analysing and applying predictive model on 2 datasets, there are some conclusions that can be drawn as follows:\n",
    "- Imbalance dataset cause difficulties in the prediction of the models.\n",
    "- Accuracy rate is not the only metric for evaluating models. High accuracy does not mean that your model is good. It based on your problem is and what you expect the model.\n",
    "- Creating a good model is not easy, it not just copy the code and paste. Especially in real world with real data and various kind of business problems! For instance, the KNN model and Random Forest have good performance on the upsampled dataset but still can not improve predictive efficiency on the test sample data. I think that we need some more advanced method to solve this problem such as feature engineering or deep learning."
   ]
  },
  {
   "cell_type": "code",
   "execution_count": null,
   "metadata": {},
   "outputs": [],
   "source": []
  }
 ],
 "metadata": {
  "kernelspec": {
   "display_name": "Python 3",
   "language": "python",
   "name": "python3"
  },
  "language_info": {
   "codemirror_mode": {
    "name": "ipython",
    "version": 3
   },
   "file_extension": ".py",
   "mimetype": "text/x-python",
   "name": "python",
   "nbconvert_exporter": "python",
   "pygments_lexer": "ipython3",
   "version": "3.8.5"
  }
 },
 "nbformat": 4,
 "nbformat_minor": 4
}
